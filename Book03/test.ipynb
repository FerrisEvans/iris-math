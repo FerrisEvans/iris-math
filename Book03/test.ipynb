{
 "cells": [
  {
   "cell_type": "code",
   "id": "initial_id",
   "metadata": {
    "collapsed": true,
    "ExecuteTime": {
     "end_time": "2024-04-27T14:54:44.796469Z",
     "start_time": "2024-04-27T14:54:44.793382Z"
    }
   },
   "source": [
    "import numpy as np\n",
    "\n",
    "a_row = np.array([[1, 2, 3]])\n",
    "b = a_row.T\n",
    "b_col = np.array([[1], [2], [3]])\n",
    "a = b_col.T"
   ],
   "outputs": [
    {
     "name": "stdout",
     "output_type": "stream",
     "text": [
      "[[1]\n",
      " [2]\n",
      " [3]]\n",
      "[[1 2 3]]\n"
     ]
    }
   ],
   "execution_count": 4
  },
  {
   "metadata": {},
   "cell_type": "markdown",
   "source": [
    "$c = \\sqrt{a^2 + b^2}$\n",
    "\n",
    "$$c = \\sqrt{a^2 + b^2}$$"
   ],
   "id": "1b20f6edb104f2f7"
  },
  {
   "metadata": {},
   "cell_type": "markdown",
   "source": "",
   "id": "25811f4317a07dda"
  },
  {
   "metadata": {},
   "cell_type": "markdown",
   "source": "",
   "id": "8b20a74c66f13e21"
  }
 ],
 "metadata": {
  "kernelspec": {
   "display_name": "Python 3",
   "language": "python",
   "name": "python3"
  },
  "language_info": {
   "codemirror_mode": {
    "name": "ipython",
    "version": 2
   },
   "file_extension": ".py",
   "mimetype": "text/x-python",
   "name": "python",
   "nbconvert_exporter": "python",
   "pygments_lexer": "ipython2",
   "version": "2.7.6"
  }
 },
 "nbformat": 4,
 "nbformat_minor": 5
}
