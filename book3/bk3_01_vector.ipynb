{
 "cells": [
  {
   "metadata": {},
   "cell_type": "markdown",
   "source": [
    "# 向量\n",
    "\n",
    "若干数字拍成一行或者一列，并且用中括号括起来，得到的数组叫做**向量(vector)**。"
   ],
   "id": "993766b494e34e3a"
  },
  {
   "metadata": {},
   "cell_type": "code",
   "outputs": [],
   "execution_count": null,
   "source": "import numpy as np",
   "id": "4ba9ad77638c226e"
  },
  {
   "metadata": {},
   "cell_type": "markdown",
   "source": [
    "排成一行的叫**行向量(row vector)**\n",
    "\n",
    "$${\\begin{bmatrix} 1 & 2 & 3 \\end{bmatrix}}_{1 \\times 3}$$"
   ],
   "id": "2d6535a519ceef3"
  },
  {
   "metadata": {},
   "cell_type": "code",
   "outputs": [],
   "execution_count": null,
   "source": [
    "# row vector transposed to a column vector\n",
    "a_row = np.array([[1, 2, 3]])\n",
    "print(a_row)\n",
    "print(a_row.T)"
   ],
   "id": "49e402340164f5d"
  },
  {
   "metadata": {},
   "cell_type": "code",
   "outputs": [],
   "execution_count": null,
   "source": "a_row",
   "id": "b579f7bf40fc414"
  },
  {
   "metadata": {},
   "cell_type": "code",
   "outputs": [],
   "execution_count": null,
   "source": "a_row.T",
   "id": "50021bd776fe6ebb"
  },
  {
   "metadata": {},
   "cell_type": "markdown",
   "source": [
    "排成一列的叫**列向量(column vector)**。\n",
    "\n",
    "$${\\begin{bmatrix} 1 \\\\ 2 \\\\ 3 \\end{bmatrix}}_{3 \\times 1}$$"
   ],
   "id": "a12414008d5ecd5d"
  },
  {
   "metadata": {},
   "cell_type": "code",
   "outputs": [],
   "execution_count": null,
   "source": [
    "b_col = np.array([[1], [2], [3]])\n",
    "print(b_col)\n",
    "print(b_col.T)"
   ],
   "id": "29e590c52a519eb0"
  },
  {
   "metadata": {},
   "cell_type": "code",
   "outputs": [],
   "execution_count": null,
   "source": "b_col",
   "id": "942faad167fd9646"
  },
  {
   "metadata": {},
   "cell_type": "code",
   "outputs": [],
   "execution_count": null,
   "source": "b_col.T",
   "id": "fdb4d88eaea14889"
  },
  {
   "metadata": {},
   "cell_type": "markdown",
   "source": [
    "## 标量乘法\n",
    "\n",
    "标量乘法(scalar multiplication)运算中，标量乘向量的结果还是向量，相当于缩放。\n",
    "\n",
    "$$2 \\times {\\begin{bmatrix} 1 & 2 & 3 \\end{bmatrix}} = {\\begin{bmatrix} 2 \\times 1 & 2 \\times 2 & 2 \\times 3 \\end{bmatrix}} = {\\begin{bmatrix} 2 & 4 & 6 \\end{bmatrix}}$$"
   ],
   "id": "924e42888607e5e3"
  },
  {
   "metadata": {},
   "cell_type": "code",
   "outputs": [],
   "execution_count": null,
   "source": [
    "# define a row vector\n",
    "a_row = np.array([[1, 2, 3]])\n",
    "\n",
    "b_row = 2 * a_row\n",
    "b_row"
   ],
   "id": "8a91ea8537231326"
  },
  {
   "metadata": {},
   "cell_type": "markdown",
   "source": "$$2 \\times {\\begin{bmatrix} 1 \\\\ 2 \\\\ 3 \\end{bmatrix}} = {\\begin{bmatrix} 2 \\times 1 \\\\ 2 \\times 2 \\\\ 2 \\times 3 \\end{bmatrix}} = {\\begin{bmatrix} 2 \\\\ 4 \\\\ 6 \\end{bmatrix}}$$",
   "id": "8f6c5784fa569be2"
  },
  {
   "metadata": {},
   "cell_type": "code",
   "outputs": [],
   "execution_count": null,
   "source": [
    "# define a column vector\n",
    "a_col = np.array([[1], [2], [3]])\n",
    "\n",
    "b_col = 2 * a_col\n",
    "b_col"
   ],
   "id": "31b9df6ef1089aed"
  },
  {
   "metadata": {},
   "cell_type": "code",
   "outputs": [],
   "execution_count": null,
   "source": [
    "# define a matrix\n",
    "A = np.array([[1, 2, 3],\n",
    "              [4, 5, 6]])\n",
    "\n",
    "B = 2 * A\n",
    "B"
   ],
   "id": "bdd23b3fa6ad404d"
  },
  {
   "metadata": {},
   "cell_type": "markdown",
   "source": [
    "## 向量内积\n",
    "\n",
    "向量内积(inner product)结果为标量。向量内积又叫标量积(scalar product)或点积(dot product)。\n",
    "\n",
    "运算规则：两个形状相同的向量，对应位置元素一一相乘后再求和。\n",
    "\n",
    "$${\\begin{bmatrix} 1 & 2 & 3 \\end{bmatrix}} \\cdot {\\begin{bmatrix} 4 & 3 & 2 \\end{bmatrix}} = 1 \\times 4 \\plus 2 \\times 3 \\plus 3 \\times 2 = 16$$"
   ],
   "id": "beae481d326df72a"
  },
  {
   "metadata": {},
   "cell_type": "code",
   "outputs": [],
   "execution_count": null,
   "source": [
    "a_row = np.array([[1, 2, 3]])\n",
    "b_row = np.array([[4, 3, 2]])\n",
    "\n",
    "a_dot_b = np.inner(a_row, b_row)\n",
    "\n",
    "print(a_dot_b)\n",
    "print(np.inner(a_row[:], b_row[:]))\n",
    "print(np.sum(a_row * b_row))"
   ],
   "id": "13be1882c3280678"
  },
  {
   "metadata": {},
   "cell_type": "markdown",
   "source": "$${\\begin{bmatrix} 1 \\\\ 2 \\\\ 3 \\end{bmatrix}} \\cdot {\\begin{bmatrix} -1 \\\\ 0 \\\\ 1 \\end{bmatrix}} = 1 \\times (-1) \\plus 2 \\times 0 \\plus 3 \\times 1 = 2$$",
   "id": "dde934718c43cef2"
  },
  {
   "metadata": {},
   "cell_type": "code",
   "outputs": [],
   "execution_count": null,
   "source": [
    "# %% column vector dot product\n",
    "\n",
    "a_col = np.array([[1], [2], [3]])\n",
    "b_col = np.array([[-1], [0], [1]])\n",
    "\n",
    "a_dot_b = np.inner(a_col, b_col)\n",
    "print(a_dot_b)  # tensor product\n",
    "\n",
    "print(np.sum(a_col * b_col))"
   ],
   "id": "7f7746e13343ef4b"
  },
  {
   "metadata": {},
   "cell_type": "markdown",
   "source": [
    "## 逐项积\n",
    "\n",
    "逐项积(piecewise product)也叫阿达玛乘积(hadamard product)。两个相同形状向量的逐项积为对应位置元素分别相乘，结果为相同形状的向量。\n",
    "\n",
    "$$\\begin{bmatrix} 1 & 2 & 3\\end{bmatrix}\\odot \\begin{bmatrix} 4 & 5 & 6\\end{bmatrix}=\\begin{bmatrix} 1 \\times 4 & 2 \\times 5 & 3 \\times 6\\end{bmatrix} = \\begin{bmatrix} 4 & 10 & 18\\end{bmatrix}$$"
   ],
   "id": "cd5d14e36067a4aa"
  },
  {
   "metadata": {},
   "cell_type": "code",
   "outputs": [],
   "execution_count": null,
   "source": [
    "a = np.array([[1, 2, 3]])\n",
    "b = np.array([[4, 5, 6]])\n",
    "\n",
    "# calculate element-wise product of row vectors\n",
    "a_times_b = a * b\n",
    "a_times_b"
   ],
   "id": "1cd356acdbd3faf3"
  },
  {
   "metadata": {},
   "cell_type": "markdown",
   "source": [
    "同理，两个矩阵逐项积的运算前提是矩阵形状相同。矩阵逐项积运算规则为对应元素相乘，结果形状不变。\n",
    "\n",
    "$$\\begin{bmatrix} 1 & 2 & 3 \\\\4&5&6\\end{bmatrix}\\odot \\begin{bmatrix} 1&2&3\\\\-1&0&1\\end{bmatrix}=\\begin{bmatrix} 1 \\times 1 & 2 \\times 2 & 3 \\times 3 \\\\ 4 \\times -1 & 5 \\times 0 & 6 \\times 1\\end{bmatrix} = \\begin{bmatrix} 1 & 4 & 9 \\\\ -4 & 0 & 6\\end{bmatrix}$$"
   ],
   "id": "79adff116841190a"
  },
  {
   "metadata": {},
   "cell_type": "code",
   "outputs": [],
   "execution_count": null,
   "source": [
    "A = np.array([[1, 2, 3],\n",
    "              [4, 5, 6]])\n",
    "\n",
    "B = np.array([[1, 2, 3],\n",
    "              [-1, 0, 1]])\n",
    "\n",
    "# calculate element-wise product of matrices\n",
    "A_times_B = A * B"
   ],
   "id": "8192afbc260409c5"
  }
 ],
 "metadata": {
  "kernelspec": {
   "display_name": "Python 3",
   "language": "python",
   "name": "python3"
  },
  "language_info": {
   "codemirror_mode": {
    "name": "ipython",
    "version": 2
   },
   "file_extension": ".py",
   "mimetype": "text/x-python",
   "name": "python",
   "nbconvert_exporter": "python",
   "pygments_lexer": "ipython2",
   "version": "2.7.6"
  }
 },
 "nbformat": 4,
 "nbformat_minor": 5
}
