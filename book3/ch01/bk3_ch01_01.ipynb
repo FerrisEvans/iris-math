{
 "cells": [
  {
   "metadata": {},
   "cell_type": "markdown",
   "source": "向量",
   "id": "993766b494e34e3a"
  },
  {
   "metadata": {},
   "cell_type": "code",
   "source": "import numpy as np",
   "id": "f7ed0c6b408dca2a",
   "outputs": [],
   "execution_count": null
  },
  {
   "metadata": {},
   "cell_type": "code",
   "source": [
    "a_i = np.linspace(1, 10, 10)\n",
    "a_i"
   ],
   "id": "d67a87a88ad2a91e",
   "outputs": [],
   "execution_count": null
  },
  {
   "metadata": {},
   "cell_type": "code",
   "source": [
    "a_i_cumsum = np.cumsum(a_i)\n",
    "a_i_cumsum"
   ],
   "id": "abfe8ab76bd3082",
   "outputs": [],
   "execution_count": null
  },
  {
   "metadata": {},
   "cell_type": "code",
   "source": [
    "# row vector transposed to a column vector\n",
    "a_row = np.array([[1, 2, 3]])\n",
    "print(a_row)\n",
    "print(a_row.T)"
   ],
   "id": "735e2e508005a6d2",
   "outputs": [],
   "execution_count": null
  },
  {
   "metadata": {},
   "cell_type": "code",
   "source": "a_row",
   "id": "23c040ec80bbc200",
   "outputs": [],
   "execution_count": null
  },
  {
   "metadata": {},
   "cell_type": "code",
   "source": "a_row.T",
   "id": "545911c5844a4a49",
   "outputs": [],
   "execution_count": null
  },
  {
   "metadata": {},
   "cell_type": "code",
   "source": [
    "b_col = np.array([[1], [2], [3]])\n",
    "print(b_col)\n",
    "print(b_col.T)"
   ],
   "id": "de4ac8c043c11d1c",
   "outputs": [],
   "execution_count": null
  },
  {
   "metadata": {},
   "cell_type": "code",
   "source": "b_col",
   "id": "4fd3c0edf83b556d",
   "outputs": [],
   "execution_count": null
  },
  {
   "metadata": {},
   "cell_type": "code",
   "source": "b_col.T",
   "id": "5da70845d4668bb6",
   "outputs": [],
   "execution_count": null
  },
  {
   "metadata": {},
   "cell_type": "code",
   "source": [
    "A = np.array([[1, 2, 3],\n",
    "              [4, 5, 6]])\n",
    "A"
   ],
   "id": "72a3a5e20671f012",
   "outputs": [],
   "execution_count": null
  },
  {
   "metadata": {},
   "cell_type": "code",
   "source": [
    "A_first_col = A[:, 0]  # saved as one dimension row\n",
    "A_first_col"
   ],
   "id": "78392dad3391f49c",
   "outputs": [],
   "execution_count": null
  },
  {
   "metadata": {},
   "cell_type": "code",
   "source": [
    "A_first_col_V2 = A[:, [0]]  # saved as a column\n",
    "A_first_col_V2"
   ],
   "id": "f97afcd7a34af970",
   "outputs": [],
   "execution_count": null
  },
  {
   "metadata": {},
   "cell_type": "code",
   "source": [
    "A_first_second_col_V2 = A[:, [0, 1]]  # extract first and second columns\n",
    "A_first_second_col_V2"
   ],
   "id": "b782f9e882664301",
   "outputs": [],
   "execution_count": null
  },
  {
   "metadata": {},
   "cell_type": "code",
   "source": [
    "A_first_third_col_V2 = A[:, [0, 2]]  # extract first and third columns\n",
    "A_first_third_col_V2"
   ],
   "id": "4e7a8d59e9cd90e4",
   "outputs": [],
   "execution_count": null
  },
  {
   "metadata": {},
   "cell_type": "code",
   "source": [
    "A_first_row = A[[0], :]  # extract first row\n",
    "A_first_row"
   ],
   "id": "103473c72cc24cbd",
   "outputs": [],
   "execution_count": null
  },
  {
   "metadata": {},
   "cell_type": "code",
   "source": [
    "A_second_row = A[[1], :]  # extract second row\n",
    "A_second_row"
   ],
   "id": "99570a38e7afe318",
   "outputs": [],
   "execution_count": null
  },
  {
   "metadata": {},
   "cell_type": "code",
   "source": [
    "A_second_row_first_col = A[[1], [0]]\n",
    "A_second_row_first_col"
   ],
   "id": "a87b549c536a8d9a",
   "outputs": [],
   "execution_count": null
  }
 ],
 "metadata": {
  "kernelspec": {
   "display_name": "Python 3",
   "language": "python",
   "name": "python3"
  },
  "language_info": {
   "codemirror_mode": {
    "name": "ipython",
    "version": 2
   },
   "file_extension": ".py",
   "mimetype": "text/x-python",
   "name": "python",
   "nbconvert_exporter": "python",
   "pygments_lexer": "ipython2",
   "version": "2.7.6"
  }
 },
 "nbformat": 4,
 "nbformat_minor": 5
}
