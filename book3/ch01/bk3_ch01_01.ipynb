{
 "cells": [
  {
   "metadata": {},
   "cell_type": "markdown",
   "source": [
    "# 向量\n",
    "\n",
    "若干数字拍成一行或者一列，并且用中括号括起来，得到的数组叫做**向量(vector)**。"
   ],
   "id": "993766b494e34e3a"
  },
  {
   "metadata": {},
   "cell_type": "code",
   "outputs": [],
   "execution_count": null,
   "source": "import numpy as np",
   "id": "4ba9ad77638c226e"
  },
  {
   "metadata": {},
   "cell_type": "markdown",
   "source": [
    "排成一行的叫**行向量(row vector)**\n",
    "\n",
    "$${\\begin{bmatrix} 1 & 2 & 3 \\end{bmatrix}}_{1 \\times 3}$$"
   ],
   "id": "2d6535a519ceef3"
  },
  {
   "metadata": {},
   "cell_type": "code",
   "outputs": [],
   "execution_count": null,
   "source": [
    "# row vector transposed to a column vector\n",
    "a_row = np.array([[1, 2, 3]])\n",
    "print(a_row)\n",
    "print(a_row.T)"
   ],
   "id": "49e402340164f5d"
  },
  {
   "metadata": {},
   "cell_type": "code",
   "outputs": [],
   "execution_count": null,
   "source": "a_row",
   "id": "b579f7bf40fc414"
  },
  {
   "metadata": {},
   "cell_type": "code",
   "outputs": [],
   "execution_count": null,
   "source": "a_row.T",
   "id": "50021bd776fe6ebb"
  },
  {
   "metadata": {},
   "cell_type": "markdown",
   "source": [
    "排成一列的叫**列向量(column vector)**。\n",
    "\n",
    "$${\\begin{bmatrix} 1 \\\\ 2 \\\\ 3 \\end{bmatrix}}_{3 \\times 1}$$"
   ],
   "id": "a12414008d5ecd5d"
  },
  {
   "metadata": {},
   "cell_type": "code",
   "outputs": [],
   "execution_count": null,
   "source": [
    "b_col = np.array([[1], [2], [3]])\n",
    "print(b_col)\n",
    "print(b_col.T)"
   ],
   "id": "29e590c52a519eb0"
  },
  {
   "metadata": {},
   "cell_type": "code",
   "outputs": [],
   "execution_count": null,
   "source": "b_col",
   "id": "942faad167fd9646"
  },
  {
   "metadata": {},
   "cell_type": "code",
   "outputs": [],
   "execution_count": null,
   "source": "b_col.T",
   "id": "fdb4d88eaea14889"
  },
  {
   "metadata": {},
   "cell_type": "markdown",
   "source": "# ",
   "id": "38b249c131bfed1d"
  },
  {
   "metadata": {},
   "cell_type": "code",
   "source": "",
   "id": "d67a87a88ad2a91e",
   "outputs": [],
   "execution_count": null
  },
  {
   "metadata": {},
   "cell_type": "code",
   "source": "",
   "id": "abfe8ab76bd3082",
   "outputs": [],
   "execution_count": null
  },
  {
   "metadata": {},
   "cell_type": "code",
   "source": "",
   "id": "72a3a5e20671f012",
   "outputs": [],
   "execution_count": null
  },
  {
   "metadata": {},
   "cell_type": "code",
   "source": "",
   "id": "78392dad3391f49c",
   "outputs": [],
   "execution_count": null
  },
  {
   "metadata": {},
   "cell_type": "code",
   "source": "",
   "id": "f97afcd7a34af970",
   "outputs": [],
   "execution_count": null
  },
  {
   "metadata": {},
   "cell_type": "code",
   "source": "",
   "id": "b782f9e882664301",
   "outputs": [],
   "execution_count": null
  },
  {
   "metadata": {},
   "cell_type": "code",
   "source": "",
   "id": "4e7a8d59e9cd90e4",
   "outputs": [],
   "execution_count": null
  },
  {
   "metadata": {},
   "cell_type": "code",
   "source": "",
   "id": "103473c72cc24cbd",
   "outputs": [],
   "execution_count": null
  },
  {
   "metadata": {},
   "cell_type": "code",
   "source": "",
   "id": "99570a38e7afe318",
   "outputs": [],
   "execution_count": null
  },
  {
   "metadata": {},
   "cell_type": "code",
   "source": "",
   "id": "a87b549c536a8d9a",
   "outputs": [],
   "execution_count": null
  }
 ],
 "metadata": {
  "kernelspec": {
   "display_name": "Python 3",
   "language": "python",
   "name": "python3"
  },
  "language_info": {
   "codemirror_mode": {
    "name": "ipython",
    "version": 2
   },
   "file_extension": ".py",
   "mimetype": "text/x-python",
   "name": "python",
   "nbconvert_exporter": "python",
   "pygments_lexer": "ipython2",
   "version": "2.7.6"
  }
 },
 "nbformat": 4,
 "nbformat_minor": 5
}
