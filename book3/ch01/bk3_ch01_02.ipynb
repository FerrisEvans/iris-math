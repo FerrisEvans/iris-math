{
 "cells": [
  {
   "metadata": {},
   "cell_type": "markdown",
   "source": [
    "# 矩阵\n",
    "\n",
    "将一系列数字以长方形方式排列。通俗的讲，矩阵将数字排列成表格，有行、有列。通常，用大写斜体字母表示矩阵，如矩阵*A*，矩阵*B*。\n",
    "\n",
    "$${\\begin{bmatrix} 1 & 2 & 3 & 4\\\\ 2 & 3 & 4 & 5 \\\\ 3 & 4 & 5 & 6 \\end{bmatrix}}_{3 \\times 4}, {\\begin{bmatrix} 1 & 2 \\\\ 3 & 4 \\\\ 5 & 6 \\end{bmatrix}}_{3 \\times 2}$$"
   ],
   "id": "d14c6e105ade6f3"
  },
  {
   "metadata": {},
   "cell_type": "markdown",
   "source": [
    "$$\n",
    "X_{n\\times D} = \n",
    " \\begin{bmatrix}\n",
    "  x_{1,1} & x_{1,2} & \\cdots & x_{1,n} \\\\\n",
    "  x_{2,1} & x_{2,2} & \\cdots & x_{2,n} \\\\\n",
    "  \\vdots  & \\vdots  & \\ddots & \\vdots  \\\\\n",
    "  x_{m,1} & x_{m,2} & \\cdots & x_{m,n} \n",
    " \\end{bmatrix}\n",
    "$$\n",
    "\n",
    "如上，为一个$n \\times D$(n by capital D)矩阵*X*，n是矩阵的行数(number of rows in the matrix)，D是矩阵的列数(number of columns in the matrix)。\n",
    "\n",
    "在统计中，一般用n代表样本数量。因此，用n代表矩阵的行数。字母D取自dimension（维度）的首字母，方便记忆。"
   ],
   "id": "fa694f8f2170cb83"
  },
  {
   "metadata": {},
   "cell_type": "code",
   "outputs": [],
   "execution_count": null,
   "source": "import numpy as np",
   "id": "6cb41223ac47bb89"
  },
  {
   "metadata": {},
   "cell_type": "code",
   "outputs": [],
   "execution_count": null,
   "source": [
    "A = np.array([[1, 2, 3],\n",
    "              [4, 5, 6]])\n",
    "A"
   ],
   "id": "695c9f8e97ff1d5b"
  },
  {
   "metadata": {},
   "cell_type": "code",
   "outputs": [],
   "execution_count": null,
   "source": [
    "A_first_col = A[:, 0]  # saved as one dimension row\n",
    "A_first_col"
   ],
   "id": "a47b61692277496b"
  },
  {
   "metadata": {},
   "cell_type": "code",
   "outputs": [],
   "execution_count": null,
   "source": [
    "A_first_col_V2 = A[:, [0]]  # saved as a column\n",
    "A_first_col_V2"
   ],
   "id": "f47fc257234191b4"
  },
  {
   "metadata": {},
   "cell_type": "code",
   "outputs": [],
   "execution_count": null,
   "source": [
    "A_first_second_col_V2 = A[:, [0, 1]]  # extract first and second columns\n",
    "A_first_second_col_V2"
   ],
   "id": "f23e4ea4cb6d7434"
  },
  {
   "metadata": {},
   "cell_type": "code",
   "outputs": [],
   "execution_count": null,
   "source": [
    "A_first_third_col_V2 = A[:, [0, 2]]  # extract first and third columns\n",
    "A_first_third_col_V2"
   ],
   "id": "3a12b5f25a561b73"
  },
  {
   "metadata": {},
   "cell_type": "code",
   "outputs": [],
   "execution_count": null,
   "source": [
    "A_first_row = A[[0], :]  # extract first row\n",
    "A_first_row"
   ],
   "id": "a60b57b3e899c44f"
  },
  {
   "metadata": {},
   "cell_type": "code",
   "outputs": [],
   "execution_count": null,
   "source": [
    "A_second_row = A[[1], :]  # extract second row\n",
    "A_second_row"
   ],
   "id": "f1db5df1c5d095ad"
  },
  {
   "metadata": {},
   "cell_type": "code",
   "outputs": [],
   "execution_count": null,
   "source": [
    "A_second_row_first_col = A[[1], [0]]\n",
    "A_second_row_first_col"
   ],
   "id": "41ad58eab8543250"
  },
  {
   "metadata": {},
   "cell_type": "markdown",
   "source": "## 视角",
   "id": "319c20dcb00f2207"
  },
  {
   "metadata": {},
   "cell_type": "markdown",
   "source": [
    "矩阵可以看作是若干向量上下排列，也可以看作是若干向量上下叠放\n",
    "\n",
    "$${\\begin{bmatrix} \n",
    "    1 & 2 & 3 \\\\ \n",
    "    4 & 5 & 6 \n",
    "\\end{bmatrix}}_{2 \\times 3} = \n",
    "{\\begin{bmatrix}\n",
    "{\\begin{bmatrix} 1 \\\\ 4 \\end{bmatrix}}\n",
    "{\\begin{bmatrix} 2 \\\\ 5 \\end{bmatrix}}\n",
    "{\\begin{bmatrix} 3 \\\\ 6 \\end{bmatrix}}\n",
    "\\end{bmatrix}} =\n",
    "{\\begin{bmatrix}\n",
    "{\\begin{bmatrix} 1 & 2 & 3 \\end{bmatrix}} \\\\\n",
    "{\\begin{bmatrix} 4 & 5 & 6 \\end{bmatrix}}\n",
    "\\end{bmatrix}}\n",
    "$$"
   ],
   "id": "6f041b199f03b944"
  },
  {
   "metadata": {},
   "cell_type": "markdown",
   "source": [
    "一般情况下，形状为$n \\times D$的矩阵*X*，可以写成$D$个左右排列的列向量。\n",
    "\n",
    "$$\n",
    "X_{n \\times D} = {\\begin{bmatrix} x_1 & x_2 & \\cdots & x_D \\end{bmatrix}}\n",
    "$$"
   ],
   "id": "478f653eb0a739dc"
  },
  {
   "metadata": {},
   "cell_type": "markdown",
   "source": [
    "*X*也可以写成$n$个行向量上下叠放\n",
    "\n",
    "$$\n",
    "X_{n \\times D} = {\\begin{bmatrix} x^{(1)} \\\\ x^{(2)} \\\\ \\vdots \\\\ x^{(n)} \\end{bmatrix}}\n",
    "$$"
   ],
   "id": "c47a0284cd746d2d"
  },
  {
   "metadata": {},
   "cell_type": "markdown",
   "source": [
    "## 转置\n",
    "\n",
    "矩阵转置(matrix transpose)指的是将矩阵的行列互换得到的新矩阵。\n",
    "\n",
    "$${\\begin{bmatrix} 1 & 2 \\\\ 3 & 4 \\\\ 5 & 6 \\end{bmatrix}}^{\\operatorname {T}} = {\\begin{bmatrix} 1 & 3 & 5 \\\\ 2 & 4 & 6 \\end{bmatrix}}$$"
   ],
   "id": "7aef0bc5f16342b4"
  },
  {
   "metadata": {},
   "cell_type": "markdown",
   "source": "**主对角线是从矩阵第一行第一列元素出发，向右下方倾斜45˚斜线**",
   "id": "b2f9e357619560a7"
  },
  {
   "metadata": {},
   "cell_type": "markdown",
   "source": "$$A^{\\operatorname {T}} = {\\begin{bmatrix} a_{1} & a_{2} & a_{3} \\end{bmatrix}}^{\\operatorname {T}} = {\\begin{bmatrix} a_{1}^{\\operatorname {T}} \\\\ a_{2}^{\\operatorname {T}} \\\\ a_{3}^{\\operatorname {T}} \\end{bmatrix}}$$",
   "id": "b092c0553cc4da54"
  },
  {
   "metadata": {},
   "cell_type": "markdown",
   "source": "$$A^{\\operatorname {T}} = {\\begin{bmatrix} a^{(1)} \\\\ a^{(2)} \\\\ a^{(3)} \\end{bmatrix}}^{\\operatorname {T}} = {\\begin{bmatrix} a^{(1)\\operatorname {T}} & a^{(2)\\operatorname {T}} & a^{(3)\\operatorname {T}} \\end{bmatrix}}$$",
   "id": "28d52b2a315e197"
  },
  {
   "metadata": {},
   "cell_type": "markdown",
   "source": [
    "## 形状\n",
    "\n",
    "- 零向量(zero vector)：列向量元素都是0\n",
    "- 全1向量(all-ones vector)：列向量元素都为1\n",
    "- 方阵(square matrix)：行数和列数相同\n",
    "- 对角矩阵(diagonal matrix)：一个主对角线之外的元素皆为0\n",
    "- 单位矩阵(identity matrix)：主对角线元素为1，其余元素均为0的方阵，记作$I$\n",
    "- 对称矩阵(symmetric matrix)：元素相对于主对角线轴对称的方阵\n",
    "- 零矩阵(null matrix)：一般指所有元素均为0的方阵，记作$O$"
   ],
   "id": "b949ff5ef21bb025"
  },
  {
   "metadata": {},
   "cell_type": "markdown",
   "source": [
    "## 加减\n",
    "\n",
    "形状相同、位置对应、批量加减。"
   ],
   "id": "234c01f7af606225"
  },
  {
   "metadata": {},
   "cell_type": "code",
   "outputs": [],
   "execution_count": null,
   "source": [
    "list1 = [1, 2, 3]\n",
    "list2 = [4, 5, 6]\n",
    "print([x + y for x, y in zip(list1, list2)])\n",
    "print(list(map(lambda x, y: x + y, list1, list2)))"
   ],
   "id": "ce2d479215aacb9b"
  },
  {
   "metadata": {},
   "cell_type": "code",
   "outputs": [],
   "execution_count": null,
   "source": [
    "x = np.array(list1)\n",
    "y = np.array(list2)\n",
    "print(x + y)\n",
    "print(np.add(list1, list2))"
   ],
   "id": "af1b63d48aa48e98"
  },
  {
   "metadata": {},
   "cell_type": "code",
   "outputs": [],
   "execution_count": null,
   "source": [
    "A = [[1, 2, 3],\n",
    "     [4, 5, 6]]\n",
    "B = [[1, 0, 0],\n",
    "     [0, 1, 0]]\n",
    "\n",
    "A_plus_B = [\n",
    "    [A[i][j] + B[i][j] for j in range(len(A[0]))] for i in range(len(A))\n",
    "]\n",
    "print(A_plus_B)"
   ],
   "id": "bc1552f803c7b0ab"
  },
  {
   "metadata": {},
   "cell_type": "code",
   "outputs": [],
   "execution_count": null,
   "source": [
    "print(np.array(A) + np.array(B))\n",
    "print(np.add(A, B))"
   ],
   "id": "2ec96109b81077f8"
  }
 ],
 "metadata": {
  "kernelspec": {
   "display_name": "Python 3",
   "language": "python",
   "name": "python3"
  },
  "language_info": {
   "codemirror_mode": {
    "name": "ipython",
    "version": 2
   },
   "file_extension": ".py",
   "mimetype": "text/x-python",
   "name": "python",
   "nbconvert_exporter": "python",
   "pygments_lexer": "ipython2",
   "version": "2.7.6"
  }
 },
 "nbformat": 4,
 "nbformat_minor": 5
}
