{
 "cells": [
  {
   "metadata": {},
   "cell_type": "markdown",
   "source": "# 矩阵",
   "id": "fa694f8f2170cb83"
  },
  {
   "metadata": {},
   "cell_type": "code",
   "outputs": [],
   "execution_count": null,
   "source": "import numpy as np",
   "id": "6cb41223ac47bb89"
  },
  {
   "metadata": {},
   "cell_type": "code",
   "outputs": [],
   "execution_count": null,
   "source": [
    "A = np.array([[1, 2, 3],\n",
    "              [4, 5, 6]])\n",
    "A"
   ],
   "id": "695c9f8e97ff1d5b"
  },
  {
   "metadata": {},
   "cell_type": "code",
   "outputs": [],
   "execution_count": null,
   "source": [
    "A_first_col = A[:, 0]  # saved as one dimension row\n",
    "A_first_col"
   ],
   "id": "a47b61692277496b"
  },
  {
   "metadata": {},
   "cell_type": "code",
   "outputs": [],
   "execution_count": null,
   "source": [
    "A_first_col_V2 = A[:, [0]]  # saved as a column\n",
    "A_first_col_V2"
   ],
   "id": "f47fc257234191b4"
  },
  {
   "metadata": {},
   "cell_type": "code",
   "outputs": [],
   "execution_count": null,
   "source": [
    "A_first_second_col_V2 = A[:, [0, 1]]  # extract first and second columns\n",
    "A_first_second_col_V2"
   ],
   "id": "f23e4ea4cb6d7434"
  },
  {
   "metadata": {},
   "cell_type": "code",
   "outputs": [],
   "execution_count": null,
   "source": [
    "A_first_third_col_V2 = A[:, [0, 2]]  # extract first and third columns\n",
    "A_first_third_col_V2"
   ],
   "id": "3a12b5f25a561b73"
  },
  {
   "metadata": {},
   "cell_type": "code",
   "outputs": [],
   "execution_count": null,
   "source": [
    "A_first_row = A[[0], :]  # extract first row\n",
    "A_first_row"
   ],
   "id": "a60b57b3e899c44f"
  },
  {
   "metadata": {},
   "cell_type": "code",
   "outputs": [],
   "execution_count": null,
   "source": [
    "A_second_row = A[[1], :]  # extract second row\n",
    "A_second_row"
   ],
   "id": "f1db5df1c5d095ad"
  },
  {
   "metadata": {},
   "cell_type": "code",
   "outputs": [],
   "execution_count": null,
   "source": [
    "A_second_row_first_col = A[[1], [0]]\n",
    "A_second_row_first_col"
   ],
   "id": "41ad58eab8543250"
  }
 ],
 "metadata": {
  "kernelspec": {
   "display_name": "Python 3",
   "language": "python",
   "name": "python3"
  },
  "language_info": {
   "codemirror_mode": {
    "name": "ipython",
    "version": 2
   },
   "file_extension": ".py",
   "mimetype": "text/x-python",
   "name": "python",
   "nbconvert_exporter": "python",
   "pygments_lexer": "ipython2",
   "version": "2.7.6"
  }
 },
 "nbformat": 4,
 "nbformat_minor": 5
}
