{
 "cells": [
  {
   "cell_type": "code",
   "id": "initial_id",
   "metadata": {
    "collapsed": true
   },
   "source": [
    "import math\n",
    "import matplotlib.pyplot as plt"
   ],
   "outputs": [],
   "execution_count": null
  },
  {
   "metadata": {},
   "cell_type": "code",
   "source": [
    "x_start = 0\n",
    "math.sin(x_start)"
   ],
   "id": "eafb69c52a46d17",
   "outputs": [],
   "execution_count": null
  },
  {
   "metadata": {},
   "cell_type": "code",
   "source": [
    "x_end = 2 * math.pi\n",
    "math.sin(x_end)"
   ],
   "id": "9a37a74ca98b2450",
   "outputs": [],
   "execution_count": null
  },
  {
   "metadata": {},
   "cell_type": "code",
   "source": [
    "num = 37\n",
    "step = (x_end - x_start) / (num - 1)\n",
    "step"
   ],
   "id": "ac3a412efefe1ff9",
   "outputs": [],
   "execution_count": null
  },
  {
   "metadata": {},
   "cell_type": "code",
   "source": [
    "x_array = [x_start + i * step for i in range(num)]\n",
    "x_array"
   ],
   "id": "cdbc8d69d75fb057",
   "outputs": [],
   "execution_count": null
  },
  {
   "metadata": {},
   "cell_type": "code",
   "source": [
    "zero_array = [0 for i in range(num)]\n",
    "zero_array"
   ],
   "id": "21740b47fb3fce3",
   "outputs": [],
   "execution_count": null
  },
  {
   "metadata": {},
   "cell_type": "code",
   "source": [
    "plt.plot(x_array,\n",
    "         zero_array,\n",
    "         marker = '.',\n",
    "         markersize = 8,\n",
    "         markerfacecolor = 'w',\n",
    "         markeredgecolor = 'k'\n",
    ")\n",
    "plt.text(x_start, 0, '0')\n",
    "plt.text(x_end, 0, r'$2\\pi$')\n",
    "plt.axis('off')\n",
    "plt.show()"
   ],
   "id": "7430c63af8cadcaf",
   "outputs": [],
   "execution_count": null
  },
  {
   "metadata": {},
   "cell_type": "code",
   "source": [
    "y_array = [math.sin(x_idx) for x_idx in x_array]\n",
    "y_array"
   ],
   "id": "c7fcaba6b76c71a2",
   "outputs": [],
   "execution_count": null
  },
  {
   "metadata": {},
   "cell_type": "code",
   "source": [
    "plt.plot(x_array,\n",
    "         y_array,\n",
    "         marker = '.',\n",
    "         markersize = 8,\n",
    "         markerfacecolor = 'w',\n",
    "         markeredgecolor = 'k'\n",
    ")\n",
    "plt.text(x_start, -0.1, '0')\n",
    "plt.text(x_end, 0.1, '$2\\pi$')\n",
    "plt.axhline(y=0, color='k', linestyle='--', linewidth=0.25)\n",
    "plt.axis('off')\n",
    "plt.show()"
   ],
   "id": "ed09e5822da98d8a",
   "outputs": [],
   "execution_count": null
  }
 ],
 "metadata": {
  "kernelspec": {
   "display_name": "Python 3",
   "language": "python",
   "name": "python3"
  },
  "language_info": {
   "codemirror_mode": {
    "name": "ipython",
    "version": 2
   },
   "file_extension": ".py",
   "mimetype": "text/x-python",
   "name": "python",
   "nbconvert_exporter": "python",
   "pygments_lexer": "ipython2",
   "version": "2.7.6"
  }
 },
 "nbformat": 4,
 "nbformat_minor": 5
}
