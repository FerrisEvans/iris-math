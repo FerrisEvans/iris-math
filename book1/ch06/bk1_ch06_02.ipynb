{
 "cells": [
  {
   "cell_type": "code",
   "id": "initial_id",
   "metadata": {
    "collapsed": true
   },
   "source": [
    "import random\n",
    "import statistics\n",
    "import matplotlib.pyplot as plt"
   ],
   "outputs": [],
   "execution_count": null
  },
  {
   "metadata": {},
   "cell_type": "code",
   "source": [
    "num_flips = 1000\n",
    "results = []\n",
    "running_means = []\n",
    "\n",
    "for _ in range(num_flips):\n",
    "    result_idx = random.randint(0, 1)\n",
    "    results.append(result_idx)\n",
    "    \n",
    "    mean_idx = statistics.mean(results)\n",
    "    running_means.append(mean_idx)"
   ],
   "id": "2adb8eb245e213e9",
   "outputs": [],
   "execution_count": null
  },
  {
   "metadata": {},
   "cell_type": "code",
   "source": [
    "visual_num = 100\n",
    "plt.scatter(\n",
    "    range(1, visual_num + 1),\n",
    "    results[0:visual_num],\n",
    "    c=results[0:visual_num],\n",
    "    marker='o',\n",
    "    cmap='cool'\n",
    ")\n",
    "plt.plot(range(1, visual_num + 1), results[0:visual_num])\n",
    "plt.xlabel('Number of coin flips')\n",
    "plt.ylabel('Result')\n",
    "plt.grid(True)\n",
    "plt.show()"
   ],
   "id": "24ee43e53b3de9f9",
   "outputs": [],
   "execution_count": null
  },
  {
   "metadata": {},
   "cell_type": "code",
   "source": [
    "plt.plot(range(1, num_flips + 1), running_means)\n",
    "plt.axhline(0.5, color='r')\n",
    "plt.xlabel('Number of coin flips')\n",
    "plt.ylabel('Running mean')\n",
    "plt.grid(True)\n",
    "plt.ylim(0, 1)\n",
    "plt.show()"
   ],
   "id": "1262c88cc47dc27a",
   "outputs": [],
   "execution_count": null
  }
 ],
 "metadata": {
  "kernelspec": {
   "display_name": "Python 3",
   "language": "python",
   "name": "python3"
  },
  "language_info": {
   "codemirror_mode": {
    "name": "ipython",
    "version": 2
   },
   "file_extension": ".py",
   "mimetype": "text/x-python",
   "name": "python",
   "nbconvert_exporter": "python",
   "pygments_lexer": "ipython2",
   "version": "2.7.6"
  }
 },
 "nbformat": 4,
 "nbformat_minor": 5
}
