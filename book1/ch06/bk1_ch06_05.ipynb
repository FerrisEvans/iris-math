{
 "cells": [
  {
   "cell_type": "code",
   "id": "initial_id",
   "metadata": {
    "collapsed": true
   },
   "source": [
    "import random\n",
    "import statistics\n",
    "import matplotlib.pyplot as plt"
   ],
   "outputs": [],
   "execution_count": null
  },
  {
   "metadata": {},
   "cell_type": "code",
   "source": [
    "num = 50\n",
    "random.seed(0)\n",
    "\n",
    "x_data = [random.uniform(0, 10) for _ in range(num)]\n",
    "noise = [random.gauss(0, 1) for _ in range(num)]\n",
    "y_data = [0.5 * x_data[idx] + 1 + noise[idx] for idx in range(num)]"
   ],
   "id": "97328bb4a31d6423",
   "outputs": [],
   "execution_count": null
  },
  {
   "metadata": {},
   "cell_type": "code",
   "source": [
    "fig, ax = plt.subplots()\n",
    "ax.scatter(x_data, y_data)\n",
    "ax.set_xlabel('x'); ax.set_ylabel('y')\n",
    "ax.set_aspect('equal', adjustable='box')\n",
    "ax.set_xlim(0, 10); ax.set_ylim(-2, 8)\n",
    "ax.grid()"
   ],
   "id": "c8af6de92cbd91ac",
   "outputs": [],
   "execution_count": null
  },
  {
   "metadata": {},
   "cell_type": "code",
   "source": "slope, intercept = statistics.linear_regression(x_data, y_data)",
   "id": "b35cf7944d08b42",
   "outputs": [],
   "execution_count": null
  },
  {
   "metadata": {},
   "cell_type": "code",
   "source": [
    "start, end, step = 0, 10, 0.5\n",
    "x_array = []\n",
    "x_i = start\n",
    "\n",
    "while x_i <= end:\n",
    "    x_array.append(x_i)\n",
    "    x_i += step\n",
    "    \n",
    "y_array_predicted = [slope * x_i + intercept for x_i in x_array]"
   ],
   "id": "16d33b625221492d",
   "outputs": [],
   "execution_count": null
  },
  {
   "metadata": {},
   "cell_type": "code",
   "source": [
    "fig, ax = plt.subplots()\n",
    "ax.scatter(x_data, y_data)\n",
    "ax.plot(x_array, y_array_predicted, color='r')\n",
    "ax.set_xlabel('x'); ax.set_ylabel('y')\n",
    "ax.set_aspect('equal', adjustable='box')\n",
    "ax.set_xlim(0, 10); ax.set_ylim(-2, 8)\n",
    "ax.grid()"
   ],
   "id": "72f00c17ed7a0d54",
   "outputs": [],
   "execution_count": null
  }
 ],
 "metadata": {
  "kernelspec": {
   "display_name": "Python 3",
   "language": "python",
   "name": "python3"
  },
  "language_info": {
   "codemirror_mode": {
    "name": "ipython",
    "version": 2
   },
   "file_extension": ".py",
   "mimetype": "text/x-python",
   "name": "python",
   "nbconvert_exporter": "python",
   "pygments_lexer": "ipython2",
   "version": "2.7.6"
  }
 },
 "nbformat": 4,
 "nbformat_minor": 5
}
