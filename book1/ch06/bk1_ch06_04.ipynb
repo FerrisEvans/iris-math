{
 "cells": [
  {
   "cell_type": "code",
   "id": "initial_id",
   "metadata": {
    "collapsed": true
   },
   "source": [
    "import random\n",
    "import statistics\n",
    "import matplotlib.pyplot as plt"
   ],
   "outputs": [],
   "execution_count": null
  },
  {
   "metadata": {},
   "cell_type": "code",
   "source": "random.seed(0)",
   "id": "bb594c29ce8cb327",
   "outputs": [],
   "execution_count": null
  },
  {
   "metadata": {},
   "cell_type": "code",
   "source": [
    "mean1, std1, size1 = 0, 1, 300\n",
    "data1 = [random.gauss(mean1, std1) for _ in range(size1)]"
   ],
   "id": "a8b4f449140a5b83",
   "outputs": [],
   "execution_count": null
  },
  {
   "metadata": {},
   "cell_type": "code",
   "source": [
    "mean2, std2, size2 = 10, 5, 700\n",
    "data2 = [random.gauss(mean2, std2) for _ in range(size2)]"
   ],
   "id": "13c26bbf89d7b9bb",
   "outputs": [],
   "execution_count": null
  },
  {
   "metadata": {},
   "cell_type": "code",
   "source": [
    "mixed_data = data1 + data2\n",
    "mean_loc = statistics.mean(mixed_data)\n",
    "std_loc = statistics.stdev(mixed_data)"
   ],
   "id": "3749133ddd7b1005",
   "outputs": [],
   "execution_count": null
  },
  {
   "metadata": {},
   "cell_type": "code",
   "source": [
    "plt.hist(\n",
    "    mixed_data,\n",
    "    bins=30,\n",
    "    density=True,\n",
    "    edgecolor='black',\n",
    "    alpha=0.7,\n",
    "    color='blue',\n",
    "    label='Mixed data'\n",
    ")\n",
    "plt.axvline(mean_loc, color='red', label='Mean')\n",
    "plt.axvline(mean_loc + std_loc, color='pink', label='Mean ± std')\n",
    "plt.axvline(mean_loc - std_loc, color='pink')\n",
    "plt.xlabel('Value')\n",
    "plt.ylabel('Density')\n",
    "plt.legend()\n",
    "plt.title('Histogram of Mixed Data')\n",
    "plt.grid(True)\n",
    "plt.show()"
   ],
   "id": "6e26b2c4af888d53",
   "outputs": [],
   "execution_count": null
  }
 ],
 "metadata": {
  "kernelspec": {
   "display_name": "Python 3",
   "language": "python",
   "name": "python3"
  },
  "language_info": {
   "codemirror_mode": {
    "name": "ipython",
    "version": 2
   },
   "file_extension": ".py",
   "mimetype": "text/x-python",
   "name": "python",
   "nbconvert_exporter": "python",
   "pygments_lexer": "ipython2",
   "version": "2.7.6"
  }
 },
 "nbformat": 4,
 "nbformat_minor": 5
}
