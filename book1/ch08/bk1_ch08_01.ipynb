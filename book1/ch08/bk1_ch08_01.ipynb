{
 "cells": [
  {
   "metadata": {},
   "cell_type": "markdown",
   "source": "# 全0矩阵",
   "id": "f53e842633ada92b"
  },
  {
   "metadata": {},
   "cell_type": "code",
   "source": [
    "def create_zero_matrix(rows, cols):\n",
    "    matrix = []\n",
    "    for i in range(rows):\n",
    "        row_idx = [0] * cols\n",
    "        matrix.append(row_idx)\n",
    "    return matrix\n",
    "\n",
    "create_zero_matrix(3, 4)"
   ],
   "id": "9aa7a80b1daae4f3",
   "outputs": [],
   "execution_count": null
  },
  {
   "metadata": {},
   "cell_type": "markdown",
   "source": "# 单位矩阵",
   "id": "7a79515ebe1f3f38"
  },
  {
   "metadata": {},
   "cell_type": "code",
   "source": [
    "def identity_matrix(size):\n",
    "    matrix = []\n",
    "    for i in range(size):\n",
    "        rox_idx = [0] * size\n",
    "        rox_idx[i] = 1\n",
    "        matrix.append(rox_idx)\n",
    "    \n",
    "    return matrix\n",
    "\n",
    "identity_matrix(3)"
   ],
   "id": "dcf755683ecc75b",
   "outputs": [],
   "execution_count": null
  },
  {
   "metadata": {},
   "cell_type": "markdown",
   "source": [
    "# 方阵迹\n",
    "\n",
    "迹：主对角线上元素的综合。**迹仅仅对方针有定义。**"
   ],
   "id": "458f7c313a777a5f"
  },
  {
   "metadata": {},
   "cell_type": "code",
   "source": [
    "def trace(matrix):\n",
    "    rows = len(matrix)\n",
    "    cols = len(matrix[0])\n",
    "    if rows != cols:\n",
    "        raise ValueError('Matrix is not square')\n",
    "    diagonal_sum = sum(matrix[i][i] for i in range(rows))\n",
    "    return diagonal_sum\n",
    "\n",
    "A = [\n",
    "    [1, 2, 3],\n",
    "    [4, 5, 6],\n",
    "    [7, 8, 9]\n",
    "]\n",
    "\n",
    "trace(A)"
   ],
   "id": "9f055bd3bb99c85e",
   "outputs": [],
   "execution_count": null
  },
  {
   "metadata": {},
   "cell_type": "markdown",
   "source": "# 矩阵对称",
   "id": "993bad93d2195e0c"
  },
  {
   "metadata": {},
   "cell_type": "code",
   "source": [
    "def is_symmetric(matrix):\n",
    "    rows = len(matrix)\n",
    "    cols = len(matrix[0])\n",
    "    if rows != cols:\n",
    "        return False\n",
    "    for i in range(rows):\n",
    "        for j in range(cols):\n",
    "            if matrix[i][j] != matrix[j][i]:\n",
    "                return False\n",
    "    return True\n",
    "\n",
    "# 利用转置矩阵\n",
    "def is_symmetric_2(matrix):\n",
    "    rows = len(matrix)\n",
    "    cols = len(matrix[0])\n",
    "    if rows != cols:\n",
    "        return False\n",
    "    tranposed = [[matrix[j][i] for j in range(cols)] for i in range(rows)]\n",
    "    return tranposed == matrix\n",
    "\n",
    "A = [\n",
    "    [1, 2, 3],\n",
    "    [4, 5, 6],\n",
    "    [7, 8, 9]\n",
    "]\n",
    "\n",
    "B = [\n",
    "    [1, 2, 3],\n",
    "    [2, 4, 5],\n",
    "    [3, 5, 7]\n",
    "]\n",
    "\n",
    "C = [\n",
    "    [1, 2, 3],\n",
    "    [2, 4, 0],\n",
    "    [0, 5, 6]\n",
    "]\n",
    "print(is_symmetric(A))\n",
    "print(is_symmetric_2(A))\n",
    "\n",
    "print(is_symmetric(B))\n",
    "print(is_symmetric_2(B))\n",
    "\n",
    "print(is_symmetric(C))\n",
    "print(is_symmetric_2(C))"
   ],
   "id": "f50377e89cdae594",
   "outputs": [],
   "execution_count": null
  },
  {
   "metadata": {},
   "cell_type": "markdown",
   "source": "# 行列式",
   "id": "641cdd71c88e6010"
  },
  {
   "metadata": {},
   "cell_type": "code",
   "source": [
    "def determinant_2x2(matrix):\n",
    "    if len(matrix) != 2 or len(matrix[0]) != 2:\n",
    "        raise ValueError('Matrix must be 2x2')\n",
    "    a = matrix[0][0]\n",
    "    b = matrix[0][1]\n",
    "    c = matrix[1][0]\n",
    "    d = matrix[1][1]\n",
    "    return a * d - b * c\n",
    "\n",
    "def inverse_2x2(matrix):\n",
    "    det = determinant_2x2(matrix)\n",
    "    if det == 0:\n",
    "        raise ValueError('Matrix is not invertible')\n",
    "    \n",
    "    inv_det = 1 / det\n",
    "    inv_matrix = [\n",
    "        [matrix[1][1] * inv_det, -matrix[0][1] * inv_det],\n",
    "        [-matrix[1][0] * inv_det, matrix[0][0] * inv_det],\n",
    "    ]\n",
    "    return inv_matrix"
   ],
   "id": "32bb425231ebe771",
   "outputs": [],
   "execution_count": null
  },
  {
   "metadata": {},
   "cell_type": "code",
   "source": [
    "A = [\n",
    "    [3, 2],\n",
    "    [1, 4]\n",
    "]\n",
    "\n",
    "print(determinant_2x2(A))\n",
    "\n",
    "B = [\n",
    "    [2, 3],\n",
    "    [4, 5]\n",
    "]\n",
    "print(inverse_2x2(B))"
   ],
   "id": "a3adcb38b749965c",
   "outputs": [],
   "execution_count": null
  }
 ],
 "metadata": {
  "kernelspec": {
   "display_name": "Python 3",
   "language": "python",
   "name": "python3"
  },
  "language_info": {
   "codemirror_mode": {
    "name": "ipython",
    "version": 2
   },
   "file_extension": ".py",
   "mimetype": "text/x-python",
   "name": "python",
   "nbconvert_exporter": "python",
   "pygments_lexer": "ipython2",
   "version": "2.7.6"
  }
 },
 "nbformat": 4,
 "nbformat_minor": 5
}
