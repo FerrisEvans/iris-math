{
 "cells": [
  {
   "metadata": {},
   "cell_type": "markdown",
   "source": "# 常用Python包",
   "id": "e3137b43dbef3d49"
  },
  {
   "metadata": {},
   "cell_type": "markdown",
   "source": [
    "## Matplotlib\n",
    "\n",
    "Matplotlib是Python中最流行的绘图库之一，可用于创建各种类型的静态图形。如线图、散点图、柱状图、等高线图等。"
   ],
   "id": "7755c82a572d96af"
  },
  {
   "metadata": {},
   "cell_type": "code",
   "source": [
    "# 绘图 美化\n",
    "import matplotlib.pyplot as plt"
   ],
   "id": "eb6dd2c173efddaf",
   "outputs": [],
   "execution_count": null
  },
  {
   "metadata": {},
   "cell_type": "markdown",
   "source": [
    "## Seaborn\n",
    "\n",
    "Seaborn是基于Matplotlib的高级绘图库，提供了更美观、更丰富的图形元素和绘图样式。"
   ],
   "id": "b54ab8f4bf2dbe37"
  },
  {
   "metadata": {},
   "cell_type": "code",
   "source": [
    "# 统计可视化\n",
    "import seaborn as sns"
   ],
   "id": "21dbc5e362e57a7c",
   "outputs": [],
   "execution_count": null
  },
  {
   "metadata": {},
   "cell_type": "markdown",
   "source": [
    "## Plotly\n",
    "\n",
    "Plotly是一款交互式绘图库，可用于创建各种类型的交互式图形。如散点图、热力图、面积图、气泡图等，支持数据可视化的各个方面，包括统计学可视化、科学可视化、金融可视化等。"
   ],
   "id": "84a4329fe3fc4cef"
  },
  {
   "metadata": {},
   "cell_type": "code",
   "source": [
    "# 交互可视化\n",
    "import plotly.express as px"
   ],
   "id": "400e8134dc6f184d",
   "outputs": [],
   "execution_count": null
  },
  {
   "metadata": {},
   "cell_type": "markdown",
   "source": [
    "## NumPy\n",
    "\n",
    "NumPy是Python中常用的数值计算库，提供了数组对象和各种数学函数，用于高效地进行数值计算和科学计算。"
   ],
   "id": "52bded12d58bfcde"
  },
  {
   "metadata": {},
   "cell_type": "code",
   "source": [
    "# 多维数组、线性代数运算\n",
    "import numpy as np"
   ],
   "id": "ecc9346ec340b436",
   "outputs": [],
   "execution_count": null
  },
  {
   "metadata": {},
   "cell_type": "markdown",
   "source": [
    "## Pandas\n",
    "\n",
    "Pandas是Python中常用的数据处理库，提供了高效的数据结构和数据分析工具，可用于数据清洗、数据处理和数据可视化。"
   ],
   "id": "73a498b394805f73"
  },
  {
   "metadata": {},
   "cell_type": "code",
   "source": [
    "# 数据帧、数据处理、数据分析\n",
    "import pandas as pd"
   ],
   "id": "313514435befb58e",
   "outputs": [],
   "execution_count": null
  },
  {
   "metadata": {},
   "cell_type": "markdown",
   "source": [
    "## Scikit-Learn\n",
    "\n",
    "Scikit-Learn是Python中常用的机器学习库提供了各种常见的机器学习算法和模型，包括分类、回归、聚类、降维等"
   ],
   "id": "37bb467e00651f1a"
  },
  {
   "metadata": {},
   "cell_type": "markdown",
   "source": [
    "## TensorFlow\n",
    "\n",
    "TensorFlow是谷歌开发的机器学习框架，提供了各种深度学习模型和算法，可用于构建神经网络、卷积神经网络、循环神经网络等深度学习模型。"
   ],
   "id": "4706f8e90ce9c86b"
  },
  {
   "metadata": {},
   "cell_type": "markdown",
   "source": [
    "## Streamlit\n",
    "\n",
    "Streamlit可以通过简单的Python脚本快速构建交互式数据分析、机器学习应用程序。"
   ],
   "id": "ee5244d9418ffe61"
  },
  {
   "metadata": {},
   "cell_type": "code",
   "source": [
    "# 应用App\n",
    "import streamlit as st"
   ],
   "id": "4582bd93307715e5",
   "outputs": [],
   "execution_count": null
  }
 ],
 "metadata": {
  "kernelspec": {
   "display_name": "Python 3",
   "language": "python",
   "name": "python3"
  },
  "language_info": {
   "codemirror_mode": {
    "name": "ipython",
    "version": 2
   },
   "file_extension": ".py",
   "mimetype": "text/x-python",
   "name": "python",
   "nbconvert_exporter": "python",
   "pygments_lexer": "ipython2",
   "version": "2.7.6"
  }
 },
 "nbformat": 4,
 "nbformat_minor": 5
}
