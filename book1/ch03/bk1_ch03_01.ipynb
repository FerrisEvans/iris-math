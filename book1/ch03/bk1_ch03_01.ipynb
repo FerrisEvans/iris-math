{
 "cells": [
  {
   "cell_type": "markdown",
   "id": "da374f826bbe35c7",
   "metadata": {},
   "source": "# Note of Jupyter"
  },
  {
   "metadata": {},
   "cell_type": "markdown",
   "source": [
    "## Jupyter 常用快捷键\n",
    "\n",
    "⌃ + ⏎ run cell\n",
    "\n",
    "⌥ + ⇧ + ⏎ debug cell\n",
    "\n",
    "⎋ » m convert cell to markdown\n",
    "\n",
    "⎋ » Y convert cell to code\n",
    "\n",
    "⎋ » a add code cell above\n",
    "\n",
    "⎋ » b add code cell below\n",
    "\n",
    "⎋ » dd delete cell\n",
    "\n",
    "⌘ + ⇧ + - split cell"
   ],
   "id": "ea60a91edef3aa0d"
  },
  {
   "metadata": {},
   "cell_type": "markdown",
   "source": "## Markdown in Jupyter Notebook",
   "id": "139138396d307eb7"
  },
  {
   "cell_type": "markdown",
   "id": "864639f48d1a9677",
   "metadata": {},
   "source": [
    "# Level 1 Header\n",
    "\n",
    "## Level 2 Header\n",
    "\n",
    "### Level 3 Header\n",
    "\n",
    "#### Level 4 Header\n",
    "\n",
    "##### Level 5 Header\n",
    "\n",
    "\n",
    "<h1>Level 1 Header</h1>\n",
    "<h2>Level 2 Header</h2>\n",
    "<h3>Level 3 Header</h3>\n",
    "<h4>Level 4 Header</h4>\n",
    "<h5>Level 5 Header</h5>"
   ]
  },
  {
   "cell_type": "markdown",
   "id": "b611efa02fda37bc",
   "metadata": {},
   "source": [
    "<font color=orange>colored text</font>"
   ]
  },
  {
   "cell_type": "markdown",
   "id": "940639c62eb1abbb",
   "metadata": {},
   "source": [
    "*italic text*\n",
    "\n",
    "_italic text_\n",
    "\n",
    "<em>italic text</em>"
   ]
  },
  {
   "cell_type": "markdown",
   "id": "be4f6c377a87ddd3",
   "metadata": {},
   "source": [
    "**bold text**\n",
    "\n",
    "__bold text__\n",
    "\n",
    "<strong>bold text</strong>\n",
    "\n",
    "<b>bold text</b>"
   ]
  },
  {
   "cell_type": "markdown",
   "id": "5f6fe3b8bb2508c4",
   "metadata": {},
   "source": [
    "***bold and italic text***\n",
    "\n",
    "___bold and italic text___\n",
    "\n",
    "<strong><em>bold and italic text</em></strong>"
   ]
  },
  {
   "cell_type": "markdown",
   "id": "403a23dde7397a8b",
   "metadata": {},
   "source": [
    "~~Scratch this~~\n",
    "\n",
    "<del>Scratch this</del>"
   ]
  },
  {
   "cell_type": "markdown",
   "id": "66e53c26ff745530",
   "metadata": {},
   "source": [
    "***\n",
    "\n",
    "---\n",
    "\n",
    "___\n",
    "\n",
    "<hr>"
   ]
  },
  {
   "cell_type": "markdown",
   "id": "8a11f5f0f76bcc64",
   "metadata": {},
   "source": [
    "* bullet point 1\n",
    "* bullet point 2\n",
    "\n",
    "- bullet point 1\n",
    "- bullet point 2\n",
    "    - bullet point 2.1\n",
    "\n",
    "<ul>\n",
    "    <li>item 1</li>\n",
    "    <li>item 2</li>\n",
    "    <li>item 3</li>\n",
    "</ul>\n",
    "\n",
    "1. bullet point 1\n",
    "2. bullet point 2"
   ]
  },
  {
   "cell_type": "markdown",
   "id": "410b672c577e561c",
   "metadata": {},
   "source": [
    "> quote\n",
    "\n",
    "> quote level 1\n",
    ">> quote level 2\n",
    ">>> quote level 3"
   ]
  },
  {
   "cell_type": "markdown",
   "id": "421e25b90c32c3ee",
   "metadata": {},
   "source": [
    "$\\pi$\n",
    "\n",
    "$$a^2$$"
   ]
  },
  {
   "cell_type": "markdown",
   "id": "59457c3b70284d79",
   "metadata": {},
   "source": [
    "| col 1 | col 2 | col 3 |\n",
    "|:-----:|:-----:|:-----:|\n",
    "|   1   |   A   |   a   |\n",
    "|   2   |   B   |   b   |"
   ]
  },
  {
   "cell_type": "markdown",
   "id": "62b2dad5a751a3c",
   "metadata": {},
   "source": [
    "\\*"
   ]
  },
  {
   "cell_type": "markdown",
   "id": "e62c59009fb7217f",
   "metadata": {},
   "source": [
    "[link](https://github.com)"
   ]
  },
  {
   "cell_type": "markdown",
   "id": "b137df033a95ebaa",
   "metadata": {},
   "source": [
    "`print('Python!')`\n",
    "\n",
    "```python\n",
    "print('hello world')\n",
    "```"
   ]
  }
 ],
 "metadata": {
  "kernelspec": {
   "display_name": "Python 3",
   "language": "python",
   "name": "python3"
  },
  "language_info": {
   "codemirror_mode": {
    "name": "ipython",
    "version": 2
   },
   "file_extension": ".py",
   "mimetype": "text/x-python",
   "name": "python",
   "nbconvert_exporter": "python",
   "pygments_lexer": "ipython2",
   "version": "2.7.6"
  }
 },
 "nbformat": 4,
 "nbformat_minor": 5
}
