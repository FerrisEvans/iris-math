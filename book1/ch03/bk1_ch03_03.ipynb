{
 "cells": [
  {
   "cell_type": "markdown",
   "id": "ff7428c4ddae57bf",
   "metadata": {},
   "source": [
    "# LaTex\n",
    "\n",
    "> [online LaTex tool kit](https://www.latexlive.com/)\n",
    "> \n",
    "> [Wiki](https://en.wikibooks.org/wiki/LaTeX/Mathematics)"
   ]
  },
  {
   "cell_type": "markdown",
   "id": "2b9f67ddf1393ad7",
   "metadata": {},
   "source": [
    "$$\n",
    "A_{m\\times n} = \n",
    " \\begin{bmatrix}\n",
    "  a_{1,1} & a_{1,2} & \\cdots & a_{1,n} \\\\\n",
    "  a_{2,1} & a_{2,2} & \\cdots & a_{2,n} \\\\\n",
    "  \\vdots  & \\vdots  & \\ddots & \\vdots  \\\\\n",
    "  a_{m,1} & a_{m,2} & \\cdots & a_{m,n} \n",
    " \\end{bmatrix}\n",
    "$$"
   ]
  },
  {
   "cell_type": "markdown",
   "id": "fb079eb3ec5b492f",
   "metadata": {},
   "source": [
    "$$\n",
    "f_X(x)={\\frac {1}{\\sigma {\\sqrt {2\\pi }}}}\n",
    "\\exp \\left({-{\\frac {1}{2}}\n",
    "\\left({\\frac {x-\\mu }{\\sigma}}\\right)^{2}}\\right)\n",
    "$$"
   ]
  },
  {
   "cell_type": "markdown",
   "id": "1e1b39418a3376b5",
   "metadata": {},
   "source": [
    "${AaBbCc}$\n",
    "\n",
    "roman font 罗马字体通常用于表示数学公式中的普通文本，与数学符号（如变量、函数名等）的斜体形式形成对比。$ \\mathrm {AaBbCc} $ $\\mathrm{d}x$\n",
    "\n",
    "boldface $ \\mathbf {AaBbCc} $\n",
    "\n",
    "bold 通常用于将符号、变量或符号组设置为粗体字体。$ \\boldsymbol {AaBbCc} $\n",
    "\n",
    "typewriter font $ \\mathtt {AaBbCc} $\n",
    "\n",
    "calligraphic font $ \\mathcal {ABCDEF} $\n",
    "\n",
    "blackboard bold font 黑板粗体字体通常用于表示数学集合等特殊符号。$ \\mathbb {CRQZN} $\n",
    "\n",
    "text 将文本设置为正常字体，用于在数学公式中添加解释性文字。$\\text {Aa Bb Cc}$\n",
    "\n",
    "operator name 用于定义一个自定义的数学运算符。通常用于定义新的数学运算符，以便在数学公式中使用。$\\operatorname{T}$"
   ]
  },
  {
   "cell_type": "markdown",
   "id": "93dd3a60bd44edd4",
   "metadata": {},
   "source": [
    "一阶导数 $x'$ $x^{\\prime}$\n",
    "\n",
    "二阶导数 $x''$"
   ]
  },
  {
   "cell_type": "markdown",
   "id": "8e132c3a5a33de60",
   "metadata": {},
   "source": [
    "向量 $\\overrightarrow{AB}$"
   ]
  },
  {
   "cell_type": "markdown",
   "id": "2a0e672ace5c3226",
   "metadata": {},
   "source": [
    "强调向量或矩阵 $\\underline{x}$"
   ]
  },
  {
   "cell_type": "markdown",
   "id": "c391eae462359c11",
   "metadata": {},
   "source": [
    "向量或单位向量 x 的帽子标记 $\\hat{x}$"
   ]
  },
  {
   "cell_type": "markdown",
   "id": "10f4643eebb8eec8",
   "metadata": {},
   "source": [
    "向量或变量x的平均值 $\\bar{x}$"
   ]
  },
  {
   "cell_type": "markdown",
   "id": "b2a6a9d242099923",
   "metadata": {},
   "source": [
    "变量x的时间导数 $\\dot{x}$"
   ]
  },
  {
   "cell_type": "markdown",
   "id": "3daf2214dcb71c",
   "metadata": {},
   "source": [
    "变量x的波浪符号 $\\tilde{x}$"
   ]
  },
  {
   "cell_type": "markdown",
   "id": "500c987e669ed1ad",
   "metadata": {},
   "source": [
    "变量x的下标（索引） $x_i$"
   ]
  },
  {
   "cell_type": "markdown",
   "id": "4d401b4976a2d61e",
   "metadata": {},
   "source": [
    "变量x的上标（指数） $x^i$"
   ]
  },
  {
   "cell_type": "markdown",
   "id": "eeea314229aafe08",
   "metadata": {},
   "source": [
    "变量x的二阶时间导数 $\\ddot{x}$"
   ]
  },
  {
   "cell_type": "markdown",
   "id": "f55f88f6d721785b",
   "metadata": {},
   "source": [
    "共轭复数 $x^*$"
   ]
  },
  {
   "cell_type": "markdown",
   "id": "8da06a87b4703789",
   "metadata": {},
   "source": [
    "变量x的达铭标记 共轭转置 $x\\dagger$"
   ]
  },
  {
   "cell_type": "markdown",
   "id": "8922058c5117daf9",
   "metadata": {},
   "source": [
    "变量x的双达铭标记 $x\\ddagger$"
   ]
  },
  {
   "cell_type": "markdown",
   "id": "d27ddb52cc0da45f",
   "metadata": {},
   "source": [
    "红色标记 ${\\textcolor{red}x}$"
   ]
  },
  {
   "cell_type": "markdown",
   "id": "6e87c24812d8caf0",
   "metadata": {},
   "source": [
    "平方差公式，用于因式分解差的平方 $x^{2}-y^{2} = \\left(x+y\\right)\\left(x-y\\right)$"
   ]
  },
  {
   "cell_type": "markdown",
   "id": "4e46b6c4b777677e",
   "metadata": {},
   "source": [
    "多项式函数 $a_{n}x^{n}+a_{n-1}x^{n-1}+\\dotsb + a_{2}x^{2} + a_{1}x + a_{0}$"
   ]
  },
  {
   "cell_type": "markdown",
   "id": "d567f53b",
   "metadata": {},
   "source": [
    "多项式的求和形式 $\\sum_{k=0}^{n}a_{k}x^{k}$"
   ]
  },
  {
   "cell_type": "markdown",
   "id": "619360c3",
   "metadata": {},
   "source": [
    "一元二次方程 $ ax^{2}+bx+c=0\\ (a\\neq 0) $"
   ]
  },
  {
   "cell_type": "markdown",
   "id": "fad561fa",
   "metadata": {},
   "source": [
    "幂次方根的性质 ${\\sqrt[{n}]{a^{m}}}=(a^{m})^{1/n}=a^{m/n}=(a^{1/n})^{m}=({\\sqrt[{n}]{a}})^{m}$"
   ]
  },
  {
   "cell_type": "markdown",
   "id": "06418919",
   "metadata": {},
   "source": [
    "勾股定理 $\\left({\\sqrt {1-x^{2}}}\\right)^{2}$"
   ]
  },
  {
   "cell_type": "markdown",
   "id": "773c62b3",
   "metadata": {},
   "source": [
    "分式求和 $\\frac {1}{x+1}+{\\frac {1}{x-1}}={\\frac {2x}{x^{2}-1}}$"
   ]
  },
  {
   "cell_type": "markdown",
   "id": "5ab07ca8",
   "metadata": {},
   "source": [
    "一元二次方程的解 $x_{1,2}={\\frac {-b\\pm {\\sqrt {b^{2}-4ac}}}{2a}}$"
   ]
  },
  {
   "cell_type": "markdown",
   "id": "2497e0ca",
   "metadata": {},
   "source": [
    "一元二次函数 $f(x)=ax^{2}+bx+c~~{\\text{ with }}~~a,b,c\\in \\mathbb {R} ,\\ a\\neq 0$"
   ]
  },
  {
   "cell_type": "markdown",
   "id": "7a68a558",
   "metadata": {},
   "source": [
    "二元二次函数 $f(x_1, x_2) = x_1^2 + x_2^2 + 2x_1x_2$"
   ]
  },
  {
   "cell_type": "markdown",
   "id": "3635362c",
   "metadata": {},
   "source": [
    "对数乘法法则 $\\log_{b}(xy)=\\log_{b}x+\\log_{b}y$"
   ]
  },
  {
   "cell_type": "markdown",
   "id": "8a3da211",
   "metadata": {},
   "source": [
    "自然对数乘法法则 $\\ln(xy)=\\ln x+\\ln y{\\text{  for  }} x>0 {\\text{  and  }} y>0$"
   ]
  },
  {
   "cell_type": "markdown",
   "id": "c29dcb15",
   "metadata": {},
   "source": [
    "高斯函数或正态分布的概率密度函数 $f(x)=a\\exp \\left(-{\\frac {(x-b)^{2}}{2c^{2}}}\\right)$"
   ]
  },
  {
   "cell_type": "markdown",
   "id": "8a61390d",
   "metadata": {},
   "source": [
    "三角函数正弦和余弦的平方和 $\\sin ^{2}\\theta +\\cos ^{2}\\theta =1$"
   ]
  },
  {
   "cell_type": "markdown",
   "id": "48c1157c",
   "metadata": {},
   "source": [
    "双角正弦公式 $\\sin 2\\theta =2\\sin \\theta \\cos \\theta$"
   ]
  },
  {
   "cell_type": "markdown",
   "id": "c33f1e81",
   "metadata": {},
   "source": [
    "正弦的和差公式 $\\sin(\\alpha \\pm \\beta )=\\sin \\alpha \\cos \\beta \\pm \\cos \\alpha \\sin \\beta$"
   ]
  },
  {
   "cell_type": "markdown",
   "id": "5f098e4a",
   "metadata": {},
   "source": [
    "正切的和差公式 $\\tan(\\alpha \\pm \\beta )=\\frac {\\tan \\alpha \\pm \\tan \\beta }{1\\mp \\tan \\alpha \\tan \\beta }$\n",
    "\n",
    "自然指数函数的级数展开式 $\\exp(x)=\\sum _{k=0}^{\\infty }{\\frac {x^{k}}{k!}}=1+x+{\\frac {x^{2}}{2}}+{\\frac {x^{3}}{6}}+{\\frac {x^{4}}{24}}+\\cdots $"
   ]
  },
  {
   "cell_type": "markdown",
   "id": "55bf2808",
   "metadata": {},
   "source": [
    "求和的分配律 $ \\left(\\sum _{i=0}^{n}a_{i}\\right)\\left(\\sum _{j=0}^{n}b_{j}\\right)=\\sum _{i=0}^{n}\\sum _{j=0}^{n}a_{i}b_{j}$"
   ]
  },
  {
   "cell_type": "markdown",
   "id": "e8393a21",
   "metadata": {},
   "source": [
    "自然指数函数的极限定义 $\\exp(x) =\\lim _{n\\to \\infty }\\left(1+{\\frac {x}{n}}\\right)^{n}$"
   ]
  },
  {
   "cell_type": "markdown",
   "id": "c2ae5c6c",
   "metadata": {},
   "source": [
    "复合函数求导法则 $\\frac {\\mathrm{d}}{\\mathrm{d}x} \\exp(f(x)) =f'(x) \\exp(f(x))$"
   ]
  },
  {
   "cell_type": "markdown",
   "id": "96c2920f",
   "metadata": {},
   "source": [
    "定积分 $\\int_{a}^{b}f(x) \\mathrm {d} x$"
   ]
  },
  {
   "cell_type": "markdown",
   "id": "62f4cb19",
   "metadata": {},
   "source": [
    "高斯积分 用于计算正态分布的标准化常数 $\\int _{-\\infty }^{\\infty }\\exp(-x^{2})\\mathrm{d}x={\\sqrt {\\mathrm{\\pi} }}$"
   ]
  },
  {
   "cell_type": "markdown",
   "id": "c368232e",
   "metadata": {},
   "source": [
    "二维高斯积分 用于计算二维平面上的高斯分布的标准化常数 $\\int _{-\\infty }^{\\infty }\\int _{-\\infty }^{\\infty } \\exp \\left({-\\left(x^{2}+y^{2}\\right)} \\right) {\\mathrm{d}x} {\\mathrm{d}y} = \\pi$"
   ]
  },
  {
   "cell_type": "markdown",
   "id": "08d53398",
   "metadata": {},
   "source": [
    "二阶偏导数 $\\frac {\\partial ^{2}f}{\\partial x^{2}}=f''_{xx}=\\partial _{xx}f=\\partial _{x}^{2}f$"
   ]
  },
  {
   "cell_type": "markdown",
   "id": "bfab6541",
   "metadata": {},
   "source": [
    "混合偏导数 ${\\frac {\\partial ^{2}f}{\\partial y \\partial x}}={\\frac {\\partial }{\\partial y}}\\left({\\frac {\\partial f}{\\partial x}}\\right)=f''_{xy}$"
   ]
  },
  {
   "cell_type": "markdown",
   "id": "2472f1c8",
   "metadata": {},
   "source": [
    "转置向量 $\\mathbf {a} = {\\begin{bmatrix} a_{1} \\\\ a_{2} \\\\ a_{3} \\end{bmatrix}} = [a_{1}\\ a_{2}\\ a_{3}]^{\\operatorname {T} }$"
   ]
  },
  {
   "cell_type": "markdown",
   "id": "8ea06caf",
   "metadata": {},
   "source": [
    "向量a的模 表示向量的长度或大小 $\\left\\|\\mathbf {a} \\right\\|=\\sqrt {a_{1}^{2}+a_{2}^{2}+a_{3}^{2}}$"
   ]
  },
  {
   "cell_type": "markdown",
   "id": "49b00b1d",
   "metadata": {},
   "source": [
    "向量的点积或内积 表示两个向量的数量积 $\\mathbf {a} \\cdot \\mathbf {b} = a_{1}b_{1} + a_{2}b_{2} + a_{3}b_{3}$"
   ]
  },
  {
   "cell_type": "markdown",
   "id": "abc7f1ca",
   "metadata": {},
   "source": [
    "向量点积公式 表示点积与向量模的关系 $\\mathbf {a} \\cdot \\mathbf {b} =\\left\\|\\mathbf {a} \\right\\|\\left\\|\\mathbf {b} \\right\\|\\cos \\theta $"
   ]
  },
  {
   "cell_type": "markdown",
   "id": "d03505f6",
   "metadata": {},
   "source": [
    "范数 $\\|\\mathbf {x} \\|_{p}=\\left(\\sum _{i=1}^{n}\\left|x_{i}\\right|^{p}\\right)^{1/p}$"
   ]
  },
  {
   "cell_type": "markdown",
   "id": "14281dbd",
   "metadata": {},
   "source": [
    "矩阵 $\\mathbf {A} = {\\begin{bmatrix} 1 & 2\\\\ 3 & 4 \\\\ 5 & 6 \\end{bmatrix}}$"
   ]
  },
  {
   "cell_type": "markdown",
   "id": "aace3511",
   "metadata": {},
   "source": [
    "矩阵 $\\mathbf {A} ={\\begin{bmatrix}a_{11}&a_{12}&\\cdots &a_{1n}\\\\a_{21}&a_{22}&\\cdots &a_{2n}\\\\\\vdots &\\vdots &\\ddots &\\vdots \\\\a_{m1}&a_{m2}&\\cdots &a_{mn}\\end{bmatrix}}$"
   ]
  },
  {
   "cell_type": "markdown",
   "id": "58c9334f",
   "metadata": {},
   "source": [
    "矩阵的转置的和等于各自转置后的矩阵的和 $\\left(\\mathbf {A} +\\mathbf {B} \\right)^{\\operatorname {T} }=\\mathbf {A} ^{\\operatorname {T} }+\\mathbf {B} ^{\\operatorname {T} }$"
   ]
  },
  {
   "cell_type": "markdown",
   "id": "4033984d",
   "metadata": {},
   "source": [
    "矩阵乘积的转置等于乘数的转置的乘积的转置 $\\left(\\mathbf {AB} \\right)^{\\operatorname {T} }=\\mathbf {B} ^{\\operatorname {T} }\\mathbf {A} ^{\\operatorname {T} }$"
   ]
  },
  {
   "cell_type": "markdown",
   "id": "5426988c",
   "metadata": {},
   "source": [
    "矩阵转置的逆等于逆矩阵的转置 $ \\left(\\mathbf {A} ^{\\operatorname {T} }\\right)^{-1}=\\left(\\mathbf {A} ^{-1}\\right)^{\\operatorname {T} }$"
   ]
  },
  {
   "cell_type": "markdown",
   "id": "e7385a08",
   "metadata": {},
   "source": [
    "外积或张量积 表示两个向量的外积 $\\mathbf {u} \\otimes \\mathbf {v} = \\mathbf {u} \\mathbf {v} ^ {\\operatorname {T}} = {\\begin{bmatrix}u_{1} \\\\ u_{2} \\\\ u_{3} \\\\ u_{4} \\end{bmatrix}} {\\begin{bmatrix} v_{1}&v_{2}&v_{3} \\end{bmatrix}} = {\\begin{bmatrix} u_{1}v_{1} & u_{1}v_{2} & u_{1}v_{3} \\\\ u_{2}v_{1} & u_{2}v_{2} & u_{2}v_{3} \\\\ u_{3}v_{1} & u_{3}v_{2} & u_{3}v_{3} \\\\ u_{4}v_{1} & u_{4}v_{2} & u_{4}v_{3} \\end{bmatrix}}$"
   ]
  },
  {
   "cell_type": "markdown",
   "id": "9ba73618",
   "metadata": {},
   "source": [
    "二阶矩阵的行列式 $\\det {\\begin{bmatrix} a & b \\\\ c & d \\end{bmatrix}} = ad-bc$"
   ]
  },
  {
   "cell_type": "markdown",
   "id": "2a520e55",
   "metadata": {},
   "source": [
    "条件概率 事件B在已经发生的条件下，事件A发生的概率 $\\Pr(A\\vert B)={\\frac {\\Pr(B\\vert A)\\Pr(A)}{\\Pr(B)}}$"
   ]
  },
  {
   "cell_type": "markdown",
   "id": "e799c4bb",
   "metadata": {},
   "source": [
    "条件概率密度函数 在给定事件Y发生的条件下，事件X的概率密度函数 $ f_{X\\vert Y=y}(x)={\\frac {f_{X,Y}(x,y)}{f_{Y}(y)}}$"
   ]
  },
  {
   "cell_type": "markdown",
   "id": "689041b4",
   "metadata": {},
   "source": [
    "方差公式 随机变量偏离其均值的平均平方 $\\operatorname {var} (X) = \\operatorname {E} \\left[X^{2}\\right]-\\operatorname {E} [X]^{2}$"
   ]
  },
  {
   "cell_type": "markdown",
   "id": "d0d4f8a7",
   "metadata": {},
   "source": [
    "方差线性变换公式 $\\operatorname {var} (aX+bY)=a^{2}\\operatorname {var} (X) + b^{2}\\operatorname {var} (Y) + 2ab \\operatorname {cov} (X,Y)$"
   ]
  },
  {
   "cell_type": "markdown",
   "id": "cf97c381",
   "metadata": {},
   "source": [
    "期望值公式 用于计算随机变量平均值 $\\operatorname {E} [X]=\\int _{-\\infty }^{\\infty }xf_{X}(x) \\operatorname {d}x$"
   ]
  },
  {
   "cell_type": "markdown",
   "id": "57e1f152",
   "metadata": {},
   "source": [
    "正态分布表示 $ X\\sim N(\\mu ,\\sigma ^{2})$"
   ]
  },
  {
   "cell_type": "markdown",
   "id": "648e03d0",
   "metadata": {},
   "source": [
    "多元正态分布的概率密度函数 $\\frac {\\exp \\left(-{\\frac {1}{2}}\\left({\\mathbf {x} }-{\\boldsymbol {\\mu }}\\right)^{\\mathrm {T} }{\\boldsymbol {\\Sigma }}^{-1}\\left({\\mathbf {x} }-{\\boldsymbol {\\mu }}\\right)\\right)}{\\sqrt {(2\\pi )^{k}|{\\boldsymbol {\\Sigma }}|}}$"
   ]
  },
  {
   "cell_type": "markdown",
   "id": "90c0050c2d792079",
   "metadata": {},
   "source": []
  }
 ],
 "metadata": {
  "kernelspec": {
   "display_name": "Python 3",
   "language": "python",
   "name": "python3"
  },
  "language_info": {
   "codemirror_mode": {
    "name": "ipython",
    "version": 2
   },
   "file_extension": ".py",
   "mimetype": "text/x-python",
   "name": "python",
   "nbconvert_exporter": "python",
   "pygments_lexer": "ipython2",
   "version": "3.11.7"
  }
 },
 "nbformat": 4,
 "nbformat_minor": 5
}
