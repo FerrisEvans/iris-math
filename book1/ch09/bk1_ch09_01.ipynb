{
 "cells": [
  {
   "metadata": {},
   "cell_type": "markdown",
   "source": "# 装饰器模式",
   "id": "c127dadea3439e45"
  },
  {
   "metadata": {},
   "cell_type": "code",
   "outputs": [],
   "execution_count": null,
   "source": [
    "class ListStatistics:\n",
    "    def __init__(self):\n",
    "        self._data = []\n",
    "        \n",
    "    @property\n",
    "    def data(self):\n",
    "        return self._data\n",
    "    \n",
    "    @data.setter\n",
    "    def data(self, data):\n",
    "        if self._are_all_numeric(data):\n",
    "            self._data = data\n",
    "        else:\n",
    "            print('Error: all elements in list must be numeric')\n",
    "    \n",
    "    @classmethod\n",
    "    def _are_all_numeric(cls, input_list):\n",
    "        for e in input_list:\n",
    "            if not isinstance(e, (int, float)):\n",
    "                return False\n",
    "        return True"
   ],
   "id": "5412867fea813c27"
  }
 ],
 "metadata": {
  "kernelspec": {
   "display_name": "Python 3",
   "language": "python",
   "name": "python3"
  },
  "language_info": {
   "codemirror_mode": {
    "name": "ipython",
    "version": 2
   },
   "file_extension": ".py",
   "mimetype": "text/x-python",
   "name": "python",
   "nbconvert_exporter": "python",
   "pygments_lexer": "ipython2",
   "version": "2.7.6"
  }
 },
 "nbformat": 4,
 "nbformat_minor": 5
}
