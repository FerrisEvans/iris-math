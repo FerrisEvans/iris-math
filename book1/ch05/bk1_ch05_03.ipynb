{
 "cells": [
  {
   "cell_type": "code",
   "id": "initial_id",
   "metadata": {
    "collapsed": true
   },
   "source": "seasons = ['Spring', 'Summer', 'Fall', 'Winter']",
   "outputs": [],
   "execution_count": null
  },
  {
   "metadata": {},
   "cell_type": "code",
   "source": [
    "for season in seasons:\n",
    "    print(season)"
   ],
   "id": "f79c9f5467db0b6a",
   "outputs": [],
   "execution_count": null
  },
  {
   "metadata": {},
   "cell_type": "code",
   "source": [
    "for item in list(enumerate(seasons)):\n",
    "    print(type(item), item)\n",
    "    print(item[0], item[1])"
   ],
   "id": "aa1a65b84a9dce45",
   "outputs": [],
   "execution_count": null
  },
  {
   "metadata": {},
   "cell_type": "code",
   "source": [
    "for index, item in list(enumerate(seasons)):\n",
    "    print(index, item)"
   ],
   "id": "a2daae6dccb1b9b3",
   "outputs": [],
   "execution_count": null
  }
 ],
 "metadata": {
  "kernelspec": {
   "display_name": "Python 3",
   "language": "python",
   "name": "python3"
  },
  "language_info": {
   "codemirror_mode": {
    "name": "ipython",
    "version": 2
   },
   "file_extension": ".py",
   "mimetype": "text/x-python",
   "name": "python",
   "nbconvert_exporter": "python",
   "pygments_lexer": "ipython2",
   "version": "2.7.6"
  }
 },
 "nbformat": 4,
 "nbformat_minor": 5
}
