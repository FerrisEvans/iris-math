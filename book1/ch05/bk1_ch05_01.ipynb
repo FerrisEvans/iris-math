{
 "cells": [
  {
   "metadata": {},
   "cell_type": "markdown",
   "source": "# 数据类型",
   "id": "de46da2e20e6c0e4"
  },
  {
   "metadata": {},
   "cell_type": "code",
   "source": [
    "x = 1\n",
    "y = -2\n",
    "z = 8 + 8j\n",
    "\n",
    "print(type(x))\n",
    "print(type(y))\n",
    "print(type(z))"
   ],
   "id": "c9ae547176213b36",
   "outputs": [],
   "execution_count": null
  }
 ],
 "metadata": {
  "kernelspec": {
   "display_name": "Python 3",
   "language": "python",
   "name": "python3"
  },
  "language_info": {
   "codemirror_mode": {
    "name": "ipython",
    "version": 2
   },
   "file_extension": ".py",
   "mimetype": "text/x-python",
   "name": "python",
   "nbconvert_exporter": "python",
   "pygments_lexer": "ipython2",
   "version": "2.7.6"
  }
 },
 "nbformat": 4,
 "nbformat_minor": 5
}
