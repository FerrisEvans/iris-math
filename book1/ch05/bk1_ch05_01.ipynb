{
 "cells": [
  {
   "metadata": {},
   "cell_type": "markdown",
   "source": "# 数据类型",
   "id": "de46da2e20e6c0e4"
  },
  {
   "metadata": {},
   "cell_type": "code",
   "source": [
    "x = 1\n",
    "y = -2\n",
    "z = 8 + 8j\n",
    "\n",
    "print(type(x))\n",
    "print(type(y))\n",
    "print(type(z))"
   ],
   "id": "c9ae547176213b36",
   "outputs": [],
   "execution_count": null
  },
  {
   "metadata": {},
   "cell_type": "code",
   "source": [
    "x = 88.8\n",
    "y = 8"
   ],
   "id": "c807140f0da312e",
   "outputs": [],
   "execution_count": null
  },
  {
   "metadata": {},
   "cell_type": "code",
   "source": "type(x)",
   "id": "92f953ad9fac2e55",
   "outputs": [],
   "execution_count": null
  },
  {
   "metadata": {},
   "cell_type": "code",
   "source": "type(y)",
   "id": "c4469f0f4e278412",
   "outputs": [],
   "execution_count": null
  },
  {
   "metadata": {},
   "cell_type": "code",
   "source": [
    "# 将浮点数转换为整数\n",
    "x_to_int = int(x)\n",
    "x_to_int"
   ],
   "id": "2220980609d80be6",
   "outputs": [],
   "execution_count": null
  },
  {
   "metadata": {},
   "cell_type": "code",
   "source": [
    "x = -1.8\n",
    "int(x)"
   ],
   "id": "967173aeccd2441",
   "outputs": [],
   "execution_count": null
  },
  {
   "metadata": {},
   "cell_type": "code",
   "source": [
    "y_to_float = float(y)\n",
    "y_to_float"
   ],
   "id": "d125b14267ddba8f",
   "outputs": [],
   "execution_count": null
  },
  {
   "metadata": {},
   "cell_type": "code",
   "source": [
    "y_to_complex = complex(y)\n",
    "y_to_complex"
   ],
   "id": "70c8667e203e3c26",
   "outputs": [],
   "execution_count": null
  },
  {
   "metadata": {},
   "cell_type": "code",
   "source": [
    "x_to_str = str(x)\n",
    "x_to_str"
   ],
   "id": "94e6139407c0881d",
   "outputs": [],
   "execution_count": null
  }
 ],
 "metadata": {
  "kernelspec": {
   "display_name": "Python 3",
   "language": "python",
   "name": "python3"
  },
  "language_info": {
   "codemirror_mode": {
    "name": "ipython",
    "version": 2
   },
   "file_extension": ".py",
   "mimetype": "text/x-python",
   "name": "python",
   "nbconvert_exporter": "python",
   "pygments_lexer": "ipython2",
   "version": "2.7.6"
  }
 },
 "nbformat": 4,
 "nbformat_minor": 5
}
