{
 "cells": [
  {
   "metadata": {},
   "cell_type": "code",
   "source": "l = [1, 1.0, '12ab', True, [1, 1.0, '1'], {1}, {1: 1.0}]",
   "id": "dd09b40c5a3bd3c1",
   "outputs": [],
   "execution_count": null
  },
  {
   "metadata": {},
   "cell_type": "code",
   "source": [
    "for index, item in enumerate(l):\n",
    "    print(f'element: {item}, index: {index}, type: {type(item)}')"
   ],
   "id": "5fa57eb44b3eb3f5",
   "outputs": [],
   "execution_count": null
  },
  {
   "metadata": {},
   "cell_type": "code",
   "source": [
    "first, *rest = l\n",
    "print(f'first: {first}, rest: {rest}')"
   ],
   "id": "8fd1114b9178afb1",
   "outputs": [],
   "execution_count": null
  },
  {
   "metadata": {},
   "cell_type": "code",
   "source": [
    "first, second, *rest = l\n",
    "print(f'first: {first}, second: {second}, rest: {rest}')"
   ],
   "id": "39c737ecf1ecb855",
   "outputs": [],
   "execution_count": null
  },
  {
   "metadata": {},
   "cell_type": "code",
   "source": [
    "first, second, *rest, last = l\n",
    "print(f'first: {first}, second: {second}, rest: {rest}, last: {last}')"
   ],
   "id": "6b98782e7f810f45",
   "outputs": [],
   "execution_count": null
  },
  {
   "metadata": {},
   "cell_type": "code",
   "source": [
    "first, second, *rest, _ = l\n",
    "print(f'first: {first}, second: {second}, rest: {rest}')"
   ],
   "id": "787070b47fdaa36e",
   "outputs": [],
   "execution_count": null
  },
  {
   "metadata": {},
   "cell_type": "code",
   "source": [
    "l1 = [1, 2, 3]\n",
    "l2 = [4, 5, 6]\n",
    "combined = l1 + l2\n",
    "print(f'combined: {combined}')"
   ],
   "id": "ec15e7fd3571e1be",
   "outputs": [],
   "execution_count": null
  },
  {
   "metadata": {},
   "cell_type": "code",
   "source": [
    "name = ['J', 'o', 'h', 'n']\n",
    "res = ''.join(name)\n",
    "print(f'res: {res}')"
   ],
   "id": "c40478f242ada15a",
   "outputs": [],
   "execution_count": null
  },
  {
   "metadata": {},
   "cell_type": "code",
   "source": [
    "res = ' '.join(name)\n",
    "print(f'res: {res}')"
   ],
   "id": "857f86e86c7e54df",
   "outputs": [],
   "execution_count": null
  },
  {
   "metadata": {},
   "cell_type": "code",
   "source": [
    "res = ','.join(name)\n",
    "print(f'res: {res}')"
   ],
   "id": "a41fa2ab50928f7d",
   "outputs": [],
   "execution_count": null
  }
 ],
 "metadata": {
  "kernelspec": {
   "display_name": "Python 3",
   "language": "python",
   "name": "python3"
  },
  "language_info": {
   "codemirror_mode": {
    "name": "ipython",
    "version": 2
   },
   "file_extension": ".py",
   "mimetype": "text/x-python",
   "name": "python",
   "nbconvert_exporter": "python",
   "pygments_lexer": "ipython2",
   "version": "2.7.6"
  }
 },
 "nbformat": 4,
 "nbformat_minor": 5
}
