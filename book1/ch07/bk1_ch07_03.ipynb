{
 "cells": [
  {
   "metadata": {},
   "cell_type": "markdown",
   "source": "# 计算向量内积",
   "id": "829aa8c8e8486944"
  },
  {
   "metadata": {},
   "cell_type": "code",
   "source": [
    "import numpy as np\n",
    "\n",
    "a = np.array([1, 2, 3 ,4, 5])\n",
    "b = np.array([6, 7, 8, 9, 0])\n",
    "c = np.array([6, 7, 8, 9])\n",
    "\n",
    "dot_product = np.dot(a, b)\n",
    "print(dot_product)"
   ],
   "id": "86accbcee76cbc0b",
   "outputs": [],
   "execution_count": null
  },
  {
   "metadata": {},
   "cell_type": "code",
   "source": [
    "dot_product = np.dot(a, c)\n",
    "print(dot_product) # ValueError"
   ],
   "id": "352d83903e4874b",
   "outputs": [],
   "execution_count": null
  },
  {
   "metadata": {},
   "cell_type": "markdown",
   "source": "# 矩阵乘法",
   "id": "71013fffd21783c3"
  },
  {
   "metadata": {},
   "cell_type": "code",
   "source": [
    "import numpy as np\n",
    "\n",
    "A = np.array([\n",
    "    [1, 2, 10, 20],\n",
    "    [3, 4, 30, 40]\n",
    "])\n",
    "\n",
    "B = np.array([\n",
    "    [1, 3],\n",
    "    [2, 4],\n",
    "    [10, 30],\n",
    "    [20, 40]\n",
    "])\n",
    "\n",
    "C = A @ B; print(C)\n",
    "D = B @ A; print(D)"
   ],
   "id": "30fbf14d1fcdafea",
   "outputs": [],
   "execution_count": null
  }
 ],
 "metadata": {
  "kernelspec": {
   "display_name": "Python 3",
   "language": "python",
   "name": "python3"
  },
  "language_info": {
   "codemirror_mode": {
    "name": "ipython",
    "version": 2
   },
   "file_extension": ".py",
   "mimetype": "text/x-python",
   "name": "python",
   "nbconvert_exporter": "python",
   "pygments_lexer": "ipython2",
   "version": "2.7.6"
  }
 },
 "nbformat": 4,
 "nbformat_minor": 5
}
