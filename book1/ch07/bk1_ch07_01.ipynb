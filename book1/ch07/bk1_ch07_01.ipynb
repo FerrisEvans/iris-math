{
 "cells": [
  {
   "metadata": {},
   "cell_type": "markdown",
   "source": "# 计算向量内积",
   "id": "d37e6e3d69330f2d"
  },
  {
   "metadata": {},
   "cell_type": "code",
   "outputs": [],
   "execution_count": null,
   "source": [
    "a = [1, 2, 3, 4, 5]\n",
    "b = [6, 7, 8, 9, 0]"
   ],
   "id": "55a304806427c72e"
  },
  {
   "metadata": {},
   "cell_type": "code",
   "outputs": [],
   "execution_count": null,
   "source": [
    "dot_product = 0\n",
    "for i in range(len(a)):\n",
    "    dot_product += a[i] * b[i]\n",
    "    \n",
    "dot_product"
   ],
   "id": "28449d332eae69c9"
  },
  {
   "metadata": {},
   "cell_type": "code",
   "outputs": [],
   "execution_count": null,
   "source": [
    "dot_product = 0\n",
    "for a_i, b_i in zip(a, b):\n",
    "    dot_product += a_i * b_i\n",
    "    \n",
    "dot_product"
   ],
   "id": "9e853c8683e95fc1"
  }
 ],
 "metadata": {
  "kernelspec": {
   "display_name": "Python 3",
   "language": "python",
   "name": "python3"
  },
  "language_info": {
   "codemirror_mode": {
    "name": "ipython",
    "version": 2
   },
   "file_extension": ".py",
   "mimetype": "text/x-python",
   "name": "python",
   "nbconvert_exporter": "python",
   "pygments_lexer": "ipython2",
   "version": "2.7.6"
  }
 },
 "nbformat": 4,
 "nbformat_minor": 5
}
