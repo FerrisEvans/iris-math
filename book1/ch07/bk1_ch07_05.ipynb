{
 "cells": [
  {
   "metadata": {},
   "cell_type": "markdown",
   "source": "# 不放回排列",
   "id": "c58cd1c39d31b1c"
  },
  {
   "metadata": {},
   "cell_type": "code",
   "source": [
    "import itertools\n",
    "\n",
    "str = 'abc'\n",
    "perms_all = itertools.permutations(str)\n",
    "for perm_idx in perms_all:\n",
    "    print(', '.join(perm_idx))"
   ],
   "id": "e042ac874324ab26",
   "outputs": [],
   "execution_count": null
  },
  {
   "metadata": {},
   "cell_type": "code",
   "source": [
    "perms_2 = itertools.permutations(str, 2)\n",
    "for perm_idx in perms_2:\n",
    "    print(', '.join(perm_idx))"
   ],
   "id": "f94355efe43732d",
   "outputs": [],
   "execution_count": null
  },
  {
   "metadata": {},
   "cell_type": "markdown",
   "source": "# 不放回组合",
   "id": "ec99b63fdf73c8b6"
  },
  {
   "metadata": {},
   "cell_type": "code",
   "source": [
    "combs_2 = itertools.combinations(str, 2)\n",
    "for comb_idx in combs_2:\n",
    "    print(', '.join(comb_idx))"
   ],
   "id": "59f3508c73550301",
   "outputs": [],
   "execution_count": null
  },
  {
   "metadata": {},
   "cell_type": "markdown",
   "source": "# 有放回排列",
   "id": "1aec2ebbe4e15eda"
  },
  {
   "metadata": {},
   "cell_type": "code",
   "source": [
    "elements = list(str)\n",
    "repeat = 2\n",
    "permutations = itertools.product(elements, repeat=repeat)\n",
    "\n",
    "for perm in permutations:\n",
    "    print(', '.join(perm))"
   ],
   "id": "477204817b12a8e5",
   "outputs": [],
   "execution_count": null
  },
  {
   "metadata": {},
   "cell_type": "markdown",
   "source": "# 有放回组合",
   "id": "d26c279af64e0162"
  },
  {
   "metadata": {},
   "cell_type": "code",
   "source": [
    "elements = list(str)\n",
    "length = 2\n",
    "\n",
    "combos = itertools.combinations_with_replacement(elements, length)\n",
    "\n",
    "for combo_idx in combos:\n",
    "    print(', '.join(combo_idx))"
   ],
   "id": "ff3b920986f84be3",
   "outputs": [],
   "execution_count": null
  }
 ],
 "metadata": {
  "kernelspec": {
   "display_name": "Python 3",
   "language": "python",
   "name": "python3"
  },
  "language_info": {
   "codemirror_mode": {
    "name": "ipython",
    "version": 2
   },
   "file_extension": ".py",
   "mimetype": "text/x-python",
   "name": "python",
   "nbconvert_exporter": "python",
   "pygments_lexer": "ipython2",
   "version": "2.7.6"
  }
 },
 "nbformat": 4,
 "nbformat_minor": 5
}
