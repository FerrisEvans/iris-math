{
 "cells": [
  {
   "metadata": {},
   "cell_type": "markdown",
   "source": [
    "# 列表生成式\n",
    "\n",
    "expression for item in iterable if condition"
   ],
   "id": "fec5a9c37e9832bd"
  },
  {
   "metadata": {},
   "cell_type": "code",
   "source": [
    "even_numbers = [num for num in range(1, 11) if num % 2 == 0]\n",
    "even_numbers"
   ],
   "id": "bfdfe9c38cb54923",
   "outputs": [],
   "execution_count": null
  },
  {
   "metadata": {},
   "cell_type": "code",
   "source": [
    "matrix = [\n",
    "    [i * j for j in range(1, 4)] for i in range(1, 4)\n",
    "]\n",
    "matrix"
   ],
   "id": "943be2cbec9e1b7",
   "outputs": [],
   "execution_count": null
  },
  {
   "metadata": {},
   "cell_type": "markdown",
   "source": "## 复刻numpy.linspace()",
   "id": "eb399a27cd9c0796"
  },
  {
   "metadata": {},
   "cell_type": "code",
   "source": [
    "def linspace(start, stop, num=50, endpoint=True):\n",
    "    '''\n",
    "    生成颗粒度高的等差数列\n",
    "    :param start: 数列起点\n",
    "    :param stop: 数列终点\n",
    "    :param num: 数列元素\n",
    "    :param endpoint: 是否包含stop\n",
    "    :return: 数列\n",
    "    '''\n",
    "    if num < 2:\n",
    "        raise ValueError(\"Number of samples must be at least 2\")\n",
    "    if endpoint:\n",
    "        step = (stop - start) / (num - 1)\n",
    "    else:\n",
    "        step = (stop - start) / num\n",
    "    \n",
    "    return [start + i * step for i in range(num)]"
   ],
   "id": "fb607d3a06c4db32",
   "outputs": [],
   "execution_count": null
  },
  {
   "metadata": {},
   "cell_type": "code",
   "source": [
    "values = linspace(0, 10, 21)\n",
    "values"
   ],
   "id": "6e75625ac827a188",
   "outputs": [],
   "execution_count": null
  },
  {
   "metadata": {},
   "cell_type": "markdown",
   "source": "## 矩阵转置：一层列表生成式",
   "id": "bbb9df169b915e71"
  },
  {
   "metadata": {},
   "cell_type": "code",
   "source": [
    "def transpose(matrix):\n",
    "    transposed = []\n",
    "    rows = len(matrix)\n",
    "    cols = len(matrix[0])\n",
    "    \n",
    "    for j in range(cols):\n",
    "        transposed_row = [matrix[i][j] for i in range(rows)]\n",
    "        transposed.append(transposed_row)\n",
    "    \n",
    "    return transposed"
   ],
   "id": "49ad66c4cc90ee97",
   "outputs": [],
   "execution_count": null
  },
  {
   "metadata": {},
   "cell_type": "code",
   "source": [
    "A = [\n",
    "    [1, 2, 3],\n",
    "    [4, 5, 6]\n",
    "]\n",
    "B = transpose(A)\n",
    "B"
   ],
   "id": "cf57f2df50dc19f4",
   "outputs": [],
   "execution_count": null
  },
  {
   "metadata": {},
   "cell_type": "markdown",
   "source": "## 矩阵转置：两层列表生成式",
   "id": "5a4e473500ef502b"
  },
  {
   "metadata": {},
   "cell_type": "code",
   "source": [
    "def transpose_2(matrix):\n",
    "    rows = len(matrix)\n",
    "    cols = len(matrix[0])\n",
    "        \n",
    "    transposed = [\n",
    "        [matrix[i][j] for i in range(rows)] for j in range(cols)\n",
    "    ]\n",
    "    \n",
    "    return transposed"
   ],
   "id": "55d1e34f65eb1601",
   "outputs": [],
   "execution_count": null
  },
  {
   "metadata": {},
   "cell_type": "code",
   "source": [
    "A = [\n",
    "    [1, 2, 3],\n",
    "    [4, 5, 6]\n",
    "]\n",
    "B = transpose_2(A)\n",
    "B"
   ],
   "id": "dbc72cfb6f05036c",
   "outputs": [],
   "execution_count": null
  },
  {
   "metadata": {},
   "cell_type": "markdown",
   "source": "## 矩阵逐项积：两层列表生成式",
   "id": "b8593b62bcf01e05"
  },
  {
   "metadata": {},
   "cell_type": "code",
   "source": [
    "def hadamard_prod(M1, M2):\n",
    "    if len(M1) != len(M2) or len(M1[0]) != len(M2[0]):\n",
    "        raise ValueError(\"M1 and M2 must be the same size\")\n",
    "    return [\n",
    "        [M1[i][j] * M2[i][j] for j in range(len(M1[0]))] for i in range(len(M1))\n",
    "    ]"
   ],
   "id": "e1c34c9059388887",
   "outputs": [],
   "execution_count": null
  },
  {
   "metadata": {},
   "cell_type": "code",
   "source": [
    "A = [[1, 2], [3, 4]]\n",
    "B = [[2, 3], [4, 5]]\n",
    "C = hadamard_prod(A, B)\n",
    "C"
   ],
   "id": "31755cb3cab7a543",
   "outputs": [],
   "execution_count": null
  },
  {
   "metadata": {},
   "cell_type": "markdown",
   "source": "## 笛卡尔积",
   "id": "36b903edae53f7d0"
  },
  {
   "metadata": {},
   "cell_type": "code",
   "source": [
    "column1 = [1, 2, 3, 4]\n",
    "column2 = ['a', 'b', 'c']"
   ],
   "id": "5b90430563b09f65",
   "outputs": [],
   "execution_count": null
  },
  {
   "metadata": {},
   "cell_type": "code",
   "source": [
    "cartesian_product = [(x, y) for x in column1 for y in column2]\n",
    "cartesian_product"
   ],
   "id": "86830f3b4bca3bde",
   "outputs": [],
   "execution_count": null
  },
  {
   "metadata": {},
   "cell_type": "code",
   "source": [
    "cartesian_product = [[(x, y) for x in column1] for y in column2]\n",
    "cartesian_product"
   ],
   "id": "69109dc8744bc900",
   "outputs": [],
   "execution_count": null
  },
  {
   "metadata": {},
   "cell_type": "code",
   "source": [
    "from itertools import product\n",
    "\n",
    "cartesian_product = list(product(column1, column2))\n",
    "cartesian_product"
   ],
   "id": "e8682ab8d4cbeac",
   "outputs": [],
   "execution_count": null
  }
 ],
 "metadata": {
  "kernelspec": {
   "display_name": "Python 3",
   "language": "python",
   "name": "python3"
  },
  "language_info": {
   "codemirror_mode": {
    "name": "ipython",
    "version": 2
   },
   "file_extension": ".py",
   "mimetype": "text/x-python",
   "name": "python",
   "nbconvert_exporter": "python",
   "pygments_lexer": "ipython2",
   "version": "2.7.6"
  }
 },
 "nbformat": 4,
 "nbformat_minor": 5
}
