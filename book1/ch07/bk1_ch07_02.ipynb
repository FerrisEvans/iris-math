{
 "cells": [
  {
   "metadata": {},
   "cell_type": "markdown",
   "source": "# 生成二维坐标",
   "id": "1d58a2dca2e6ca97"
  },
  {
   "metadata": {},
   "cell_type": "code",
   "source": [
    "def custom_meshgrid(x, y):\n",
    "    num_x = len(x); num_y = len(y)\n",
    "    X = []; Y = []\n",
    "    for i in range(num_x):\n",
    "        X_row = []; Y_row = []\n",
    "        for j in range(num_y):\n",
    "            X_row.append(x[i])\n",
    "            Y_row.append(y[j])\n",
    "        X.append(X_row)\n",
    "        Y.append(Y_row)\n",
    "    return X, Y"
   ],
   "id": "9100c369c600cf83",
   "outputs": [],
   "execution_count": null
  },
  {
   "metadata": {},
   "cell_type": "code",
   "source": [
    "x = [0, 1, 2, 3, 4, 5]\n",
    "y = [0, 1, 2 ,3]\n",
    "\n",
    "X, Y = custom_meshgrid(x, y)\n",
    "print('X =', X)\n",
    "print('Y =', Y)"
   ],
   "id": "32d7c8b41325c9c8",
   "outputs": [],
   "execution_count": null
  },
  {
   "metadata": {},
   "cell_type": "markdown",
   "source": "# 矩阵乘法",
   "id": "245c39f20e4d0943"
  },
  {
   "metadata": {},
   "cell_type": "code",
   "source": [
    "A = [\n",
    "    [1, 2, 10, 20],\n",
    "    [3, 4, 30, 40],\n",
    "    [5, 6, 50, 60]\n",
    "]\n",
    "\n",
    "B = [\n",
    "    [4, 2],\n",
    "    [3, 1],\n",
    "    [40, 20],\n",
    "    [30, 10]\n",
    "]\n",
    "\n",
    "C = [\n",
    "    [0, 0],\n",
    "    [0, 0],\n",
    "    [0, 0]\n",
    "]\n",
    "\n",
    "for i in range(len(A)):\n",
    "    for j in range(len(B[0])):\n",
    "        for k in range(len(B)):\n",
    "            C[i][j] += A[i][k] * B[k][j]\n",
    "\n",
    "for row in C:\n",
    "    print(row)"
   ],
   "id": "71de9bb7737e8bfe",
   "outputs": [],
   "execution_count": null
  }
 ],
 "metadata": {
  "kernelspec": {
   "display_name": "Python 3",
   "language": "python",
   "name": "python3"
  },
  "language_info": {
   "codemirror_mode": {
    "name": "ipython",
    "version": 2
   },
   "file_extension": ".py",
   "mimetype": "text/x-python",
   "name": "python",
   "nbconvert_exporter": "python",
   "pygments_lexer": "ipython2",
   "version": "2.7.6"
  }
 },
 "nbformat": 4,
 "nbformat_minor": 5
}
